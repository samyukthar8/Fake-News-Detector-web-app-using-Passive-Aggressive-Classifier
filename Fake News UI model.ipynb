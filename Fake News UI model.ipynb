{
 "cells": [
  {
   "cell_type": "code",
   "execution_count": 2,
   "id": "d09ddca7",
   "metadata": {},
   "outputs": [],
   "source": [
    "import seaborn as sns\n",
    "import numpy as np\n",
    "import pandas as pd\n",
    "import matplotlib.pyplot as plt\n",
    "%matplotlib inline"
   ]
  },
  {
   "cell_type": "code",
   "execution_count": 4,
   "id": "c560b52c",
   "metadata": {},
   "outputs": [],
   "source": [
    "df=pd.read_csv(r\"C:\\Users\\home\\Downloads\\news.csv\")"
   ]
  },
  {
   "cell_type": "code",
   "execution_count": 5,
   "id": "c6abc010",
   "metadata": {},
   "outputs": [
    {
     "data": {
      "text/plain": [
       "Index(['Unnamed: 0', 'title', 'text', 'label'], dtype='object')"
      ]
     },
     "execution_count": 5,
     "metadata": {},
     "output_type": "execute_result"
    }
   ],
   "source": [
    "df.columns"
   ]
  },
  {
   "cell_type": "code",
   "execution_count": 6,
   "id": "d5da094b",
   "metadata": {},
   "outputs": [
    {
     "data": {
      "text/html": [
       "<div>\n",
       "<style scoped>\n",
       "    .dataframe tbody tr th:only-of-type {\n",
       "        vertical-align: middle;\n",
       "    }\n",
       "\n",
       "    .dataframe tbody tr th {\n",
       "        vertical-align: top;\n",
       "    }\n",
       "\n",
       "    .dataframe thead th {\n",
       "        text-align: right;\n",
       "    }\n",
       "</style>\n",
       "<table border=\"1\" class=\"dataframe\">\n",
       "  <thead>\n",
       "    <tr style=\"text-align: right;\">\n",
       "      <th></th>\n",
       "      <th>Unnamed: 0</th>\n",
       "    </tr>\n",
       "  </thead>\n",
       "  <tbody>\n",
       "    <tr>\n",
       "      <th>count</th>\n",
       "      <td>6335.000000</td>\n",
       "    </tr>\n",
       "    <tr>\n",
       "      <th>mean</th>\n",
       "      <td>5280.415627</td>\n",
       "    </tr>\n",
       "    <tr>\n",
       "      <th>std</th>\n",
       "      <td>3038.503953</td>\n",
       "    </tr>\n",
       "    <tr>\n",
       "      <th>min</th>\n",
       "      <td>2.000000</td>\n",
       "    </tr>\n",
       "    <tr>\n",
       "      <th>25%</th>\n",
       "      <td>2674.500000</td>\n",
       "    </tr>\n",
       "    <tr>\n",
       "      <th>50%</th>\n",
       "      <td>5271.000000</td>\n",
       "    </tr>\n",
       "    <tr>\n",
       "      <th>75%</th>\n",
       "      <td>7901.000000</td>\n",
       "    </tr>\n",
       "    <tr>\n",
       "      <th>max</th>\n",
       "      <td>10557.000000</td>\n",
       "    </tr>\n",
       "  </tbody>\n",
       "</table>\n",
       "</div>"
      ],
      "text/plain": [
       "         Unnamed: 0\n",
       "count   6335.000000\n",
       "mean    5280.415627\n",
       "std     3038.503953\n",
       "min        2.000000\n",
       "25%     2674.500000\n",
       "50%     5271.000000\n",
       "75%     7901.000000\n",
       "max    10557.000000"
      ]
     },
     "execution_count": 6,
     "metadata": {},
     "output_type": "execute_result"
    }
   ],
   "source": [
    "df.describe()"
   ]
  },
  {
   "cell_type": "code",
   "execution_count": 7,
   "id": "74067653",
   "metadata": {},
   "outputs": [
    {
     "name": "stdout",
     "output_type": "stream",
     "text": [
      "<class 'pandas.core.frame.DataFrame'>\n",
      "RangeIndex: 6335 entries, 0 to 6334\n",
      "Data columns (total 4 columns):\n",
      " #   Column      Non-Null Count  Dtype \n",
      "---  ------      --------------  ----- \n",
      " 0   Unnamed: 0  6335 non-null   int64 \n",
      " 1   title       6335 non-null   object\n",
      " 2   text        6335 non-null   object\n",
      " 3   label       6335 non-null   object\n",
      "dtypes: int64(1), object(3)\n",
      "memory usage: 198.1+ KB\n"
     ]
    }
   ],
   "source": [
    "df.info()"
   ]
  },
  {
   "cell_type": "code",
   "execution_count": 8,
   "id": "8f3f119f",
   "metadata": {},
   "outputs": [],
   "source": [
    "df = df.loc[:, ~df.columns.str.contains('^Unnamed')]"
   ]
  },
  {
   "cell_type": "code",
   "execution_count": 9,
   "id": "65d369f2",
   "metadata": {},
   "outputs": [
    {
     "data": {
      "text/html": [
       "<div>\n",
       "<style scoped>\n",
       "    .dataframe tbody tr th:only-of-type {\n",
       "        vertical-align: middle;\n",
       "    }\n",
       "\n",
       "    .dataframe tbody tr th {\n",
       "        vertical-align: top;\n",
       "    }\n",
       "\n",
       "    .dataframe thead th {\n",
       "        text-align: right;\n",
       "    }\n",
       "</style>\n",
       "<table border=\"1\" class=\"dataframe\">\n",
       "  <thead>\n",
       "    <tr style=\"text-align: right;\">\n",
       "      <th></th>\n",
       "      <th>title</th>\n",
       "      <th>text</th>\n",
       "      <th>label</th>\n",
       "    </tr>\n",
       "  </thead>\n",
       "  <tbody>\n",
       "    <tr>\n",
       "      <th>0</th>\n",
       "      <td>You Can Smell Hillary’s Fear</td>\n",
       "      <td>Daniel Greenfield, a Shillman Journalism Fello...</td>\n",
       "      <td>FAKE</td>\n",
       "    </tr>\n",
       "    <tr>\n",
       "      <th>1</th>\n",
       "      <td>Watch The Exact Moment Paul Ryan Committed Pol...</td>\n",
       "      <td>Google Pinterest Digg Linkedin Reddit Stumbleu...</td>\n",
       "      <td>FAKE</td>\n",
       "    </tr>\n",
       "    <tr>\n",
       "      <th>2</th>\n",
       "      <td>Kerry to go to Paris in gesture of sympathy</td>\n",
       "      <td>U.S. Secretary of State John F. Kerry said Mon...</td>\n",
       "      <td>REAL</td>\n",
       "    </tr>\n",
       "    <tr>\n",
       "      <th>3</th>\n",
       "      <td>Bernie supporters on Twitter erupt in anger ag...</td>\n",
       "      <td>— Kaydee King (@KaydeeKing) November 9, 2016 T...</td>\n",
       "      <td>FAKE</td>\n",
       "    </tr>\n",
       "    <tr>\n",
       "      <th>4</th>\n",
       "      <td>The Battle of New York: Why This Primary Matters</td>\n",
       "      <td>It's primary day in New York and front-runners...</td>\n",
       "      <td>REAL</td>\n",
       "    </tr>\n",
       "  </tbody>\n",
       "</table>\n",
       "</div>"
      ],
      "text/plain": [
       "                                               title  \\\n",
       "0                       You Can Smell Hillary’s Fear   \n",
       "1  Watch The Exact Moment Paul Ryan Committed Pol...   \n",
       "2        Kerry to go to Paris in gesture of sympathy   \n",
       "3  Bernie supporters on Twitter erupt in anger ag...   \n",
       "4   The Battle of New York: Why This Primary Matters   \n",
       "\n",
       "                                                text label  \n",
       "0  Daniel Greenfield, a Shillman Journalism Fello...  FAKE  \n",
       "1  Google Pinterest Digg Linkedin Reddit Stumbleu...  FAKE  \n",
       "2  U.S. Secretary of State John F. Kerry said Mon...  REAL  \n",
       "3  — Kaydee King (@KaydeeKing) November 9, 2016 T...  FAKE  \n",
       "4  It's primary day in New York and front-runners...  REAL  "
      ]
     },
     "execution_count": 9,
     "metadata": {},
     "output_type": "execute_result"
    }
   ],
   "source": [
    "df.head()"
   ]
  },
  {
   "cell_type": "code",
   "execution_count": 10,
   "id": "8df18e5e",
   "metadata": {},
   "outputs": [
    {
     "data": {
      "text/plain": [
       "<AxesSubplot:xlabel='label', ylabel='count'>"
      ]
     },
     "execution_count": 10,
     "metadata": {},
     "output_type": "execute_result"
    },
    {
     "data": {
      "image/png": "[encoded data removed]",
      "text/plain": [
       "<Figure size 432x288 with 1 Axes>"
      ]
     },
     "metadata": {},
     "output_type": "display_data"
    }
   ],
   "source": [
    "sns.set_style('darkgrid')\n",
    "sns.countplot(x='label',data=df)"
   ]
  },
  {
   "cell_type": "code",
   "execution_count": 11,
   "id": "879befbc",
   "metadata": {},
   "outputs": [
    {
     "data": {
      "text/html": [
       "<div>\n",
       "<style scoped>\n",
       "    .dataframe tbody tr th:only-of-type {\n",
       "        vertical-align: middle;\n",
       "    }\n",
       "\n",
       "    .dataframe tbody tr th {\n",
       "        vertical-align: top;\n",
       "    }\n",
       "\n",
       "    .dataframe thead th {\n",
       "        text-align: right;\n",
       "    }\n",
       "</style>\n",
       "<table border=\"1\" class=\"dataframe\">\n",
       "  <thead>\n",
       "    <tr style=\"text-align: right;\">\n",
       "      <th></th>\n",
       "      <th>title</th>\n",
       "      <th>text</th>\n",
       "    </tr>\n",
       "    <tr>\n",
       "      <th>label</th>\n",
       "      <th></th>\n",
       "      <th></th>\n",
       "    </tr>\n",
       "  </thead>\n",
       "  <tbody>\n",
       "    <tr>\n",
       "      <th>FAKE</th>\n",
       "      <td>3164</td>\n",
       "      <td>3164</td>\n",
       "    </tr>\n",
       "    <tr>\n",
       "      <th>REAL</th>\n",
       "      <td>3171</td>\n",
       "      <td>3171</td>\n",
       "    </tr>\n",
       "  </tbody>\n",
       "</table>\n",
       "</div>"
      ],
      "text/plain": [
       "       title  text\n",
       "label             \n",
       "FAKE    3164  3164\n",
       "REAL    3171  3171"
      ]
     },
     "execution_count": 11,
     "metadata": {},
     "output_type": "execute_result"
    }
   ],
   "source": [
    "df.groupby('label').count()"
   ]
  },
  {
   "cell_type": "code",
   "execution_count": 12,
   "id": "5d53a2e6",
   "metadata": {},
   "outputs": [],
   "source": [
    "messages=df.copy()"
   ]
  },
  {
   "cell_type": "code",
   "execution_count": 13,
   "id": "b30699db",
   "metadata": {},
   "outputs": [],
   "source": [
    "messages.reset_index(inplace=True)"
   ]
  },
  {
   "cell_type": "code",
   "execution_count": 14,
   "id": "5092897c",
   "metadata": {},
   "outputs": [],
   "source": [
    "#messages.head(10)"
   ]
  },
  {
   "cell_type": "code",
   "execution_count": 15,
   "id": "a43b15e3",
   "metadata": {},
   "outputs": [],
   "source": [
    "from nltk.corpus import stopwords\n",
    "import re\n",
    "from nltk.stem.porter import PorterStemmer"
   ]
  },
  {
   "cell_type": "code",
   "execution_count": 16,
   "id": "04fadd8b",
   "metadata": {},
   "outputs": [],
   "source": [
    "cor=[]\n",
    "ps=PorterStemmer()"
   ]
  },
  {
   "cell_type": "code",
   "execution_count": 19,
   "id": "d462d6b3",
   "metadata": {},
   "outputs": [
    {
     "name": "stderr",
     "output_type": "stream",
     "text": [
      "[nltk_data] Downloading package stopwords to\n",
      "[nltk_data]     C:\\Users\\home\\AppData\\Roaming\\nltk_data...\n",
      "[nltk_data]   Unzipping corpora\\stopwords.zip.\n"
     ]
    },
    {
     "data": {
      "text/plain": [
       "True"
      ]
     },
     "execution_count": 19,
     "metadata": {},
     "output_type": "execute_result"
    }
   ],
   "source": [
    "import nltk\n",
    "nltk.download('stopwords')"
   ]
  },
  {
   "cell_type": "code",
   "execution_count": 20,
   "id": "7109b9fb",
   "metadata": {},
   "outputs": [],
   "source": [
    "for i in range(0,len(messages)):\n",
    "    review=re.sub('[^a-zA-Z]',' ',str(messages['title'][i]))\n",
    "    review=str(messages['title'][i])\n",
    "    review=review.lower()\n",
    "    review=review.split()\n",
    "    review=[ps.stem(word) for word in review if not word in stopwords.words('english')]\n",
    "    review=' '.join(review)\n",
    "    cor.append(review)"
   ]
  },
  {
   "cell_type": "code",
   "execution_count": 21,
   "id": "637d5933",
   "metadata": {},
   "outputs": [
    {
     "data": {
      "text/plain": [
       "\"berni support twitter erupt anger dnc: 'we tri warn you!'\""
      ]
     },
     "execution_count": 21,
     "metadata": {},
     "output_type": "execute_result"
    }
   ],
   "source": [
    "cor[3]"
   ]
  },
  {
   "cell_type": "code",
   "execution_count": 22,
   "id": "2573a035",
   "metadata": {},
   "outputs": [
    {
     "data": {
      "text/plain": [
       "['smell hillary’ fear',\n",
       " 'watch exact moment paul ryan commit polit suicid trump ralli (video)',\n",
       " 'kerri go pari gestur sympathi',\n",
       " \"berni support twitter erupt anger dnc: 'we tri warn you!'\",\n",
       " 'battl new york: primari matter',\n",
       " 'tehran, usa',\n",
       " 'girl horrifi watch boyfriend left facetim',\n",
       " '‘britain’ schindler’ die 106',\n",
       " \"fact check: trump clinton 'commander-in-chief' forum\",\n",
       " 'iran reportedli make new push uranium concess nuclear talk',\n",
       " 'three clinton iowa, glimps fire elud hillari clinton’ campaign',\n",
       " 'donald trump’ shockingli weak deleg game somehow got even wors',\n",
       " 'strong solar storm, tech risk today | s0 news oct.26.2016 [video]',\n",
       " '10 way america prepar world war 3',\n",
       " 'trump take cruz, lightli',\n",
       " 'women lead differ',\n",
       " 'shocking! michel obama & hillari caught glamor date rape promot',\n",
       " 'hillari clinton huge troubl america notic sick thing hidden picture... * liberti writer news',\n",
       " \"what' iran bill obama like?\",\n",
       " '1 chart explain everyth need know partisanship america',\n",
       " 'slipperi slope trump’ propos ban muslim',\n",
       " 'episod #160 – sunday wire: ‘hail deplorables’ special guest randi j',\n",
       " 'hillari clinton make bipartisan appeal staten island',\n",
       " 'new senat major leader’ main goal gop: don’t scari',\n",
       " '‘inferno’ overpopul myth',\n",
       " 'anti-trump forc seek last-ditch deleg revolt',\n",
       " 'sander trounc clinton w. va. -- make difference?',\n",
       " 'donald trump chang campaign slogan prove he’ racist',\n",
       " 'pure chaos: donald trump’ campaign manag offer glimps govern style (spoiler alert: it’ terrible)',\n",
       " 'syrian war report – novemb 1, 2016: syrian militari deploy advanc t-90 battl tank aleppo',\n",
       " 'gop insiders: carli crush',\n",
       " 'jeffrey sewel et al. : metabiolog face face artifici intellig [video]',\n",
       " 'it’ necessari relax stretch',\n",
       " 'brexit encourag uk trade non-eu states, includ russia',\n",
       " '2016 interview socrates: anoth day life empire! near endgame, fool ever ‘hope change’? (6 ?)',\n",
       " \"mike penc drape shawl immodest ladi justic statu - onion - america' finest news sourc\",\n",
       " 'first ever hindu woman elect congress',\n",
       " 'donald grope hillari 2005! trump weiner sext other!',\n",
       " 'ex-assist fbi director: clinton crime famili',\n",
       " 'hillari want aggress interventionist foreign polici',\n",
       " 'parti want craft populist messag 2016',\n",
       " 'first take: wall street bid goodby june hike',\n",
       " \"real disclosure! secret alien base found moon' tycho crater\",\n",
       " 'homeless woman protect trump’ walk fame star violent leftist',\n",
       " '3:20 a.m. tweet storm saturday, clinton continu mock trump’ friday ‘meltdown’',\n",
       " '220 ‘significant’ pipelin spill alreadi year expos troubl safeti record',\n",
       " 'obama make right call tough afghanistan',\n",
       " 'senat race rankings: dem attack gop lay swing-stat groundwork',\n",
       " '‘he didn’t know boy didn’t want raped’ – court throw muslim migrant child sex charg german shock',\n",
       " 'pieczenik “rogu fbi agent wikileak spearhead movement stop clinton steal white house” – truthfe',\n",
       " 'american polit reach peak polar',\n",
       " 'anti-muhammad cartoon contest: free speech deliber provocative? (+video)',\n",
       " '3 effect substanc abus individual, famili commun',\n",
       " 'tree shape vertic farm grow 24 acr urban crop',\n",
       " 'new comment featur ad',\n",
       " \"world' newspap react 'hebdo' attack\",\n",
       " 'ying yang (the gold silver set-up)',\n",
       " \"close primaries, 'warped' democracy?\",\n",
       " 'polic turn badg rather incit violenc stand rock protestor',\n",
       " \"donald trump: hillari clinton 'caus tremend death'\",\n",
       " 'detroit women’ halloween decor depict ‘real-lif horrors’ … shoot polic polic',\n",
       " 'biden make anoth surpris polit stop',\n",
       " \"hillari clinton' declin favor numbers, context\",\n",
       " 'comment quid pro quo? wikileak email reveal clinton campaign eye paul ryan’ rel suprem court lenore.le',\n",
       " 'hillari clinton: crimin investig keep move forward',\n",
       " 'rubio’ part shot trump',\n",
       " 'loretta lynch becom first african-american woman ag.',\n",
       " 'funni republican upset facebook: column',\n",
       " \"fbi check orlando shooter' wife knew attack plan warn polic\",\n",
       " \"googl youtub hillary' purse?\",\n",
       " 'handicap hispan vote 2016 goper',\n",
       " 'truth radio: laconia incid',\n",
       " 'gop establish nightmare? ted cruz vs. donald trump',\n",
       " 'berni sander lost poor voter south carolina big margin — problem polit revolut',\n",
       " 'get botox?',\n",
       " 'jeb bush pick endors lindsey graham',\n",
       " '2016 republican race enter new, volatil phase',\n",
       " '‘hand up, don’t shoot’ built lie',\n",
       " 'lavrov kerri discuss syrian settlement',\n",
       " 'break : doj say “help” review 650k email – truthfe',\n",
       " \"berni sanders' call ouster two convent co-chair reject\",\n",
       " 'five reason new york democrat primari felt competit',\n",
       " 'get around congress, obama turn citi hall',\n",
       " 'celebr deathmatch: darkmoon sage make final predict us elect',\n",
       " 'john kerry: isi respons genocid',\n",
       " \"mitt romney' re-invent anti-poverti warrior\",\n",
       " 'king: fill suprem court vacanc',\n",
       " 'ted cruz toast: it’ won’t presid — day senat numbered,',\n",
       " 'obama’ speech selma answer question love america',\n",
       " 'berni sander go here?',\n",
       " 'exclusive: gop campaign plot revolt rnc',\n",
       " 'revel unleashed: unlock mysteri bible’ mysteri book',\n",
       " 'silent counter-coup 17 intel agenc stop crook clinton [video]',\n",
       " \"hillari clinton, berni sanders, 'won' town hall\",\n",
       " 'french polic hunt two brother accus charli hebdo terror attack',\n",
       " 'mandela effect made one overlook 33 year old man, ascend master (video proof)',\n",
       " 'cnn: one voter make differ vote repeatedli',\n",
       " 'give social secur recipi ceo-styl rais',\n",
       " 'firework erupt trump bush, rubio cruz gop debat',\n",
       " \"obama, sound like critics, admit 'complet strategy' iraq\",\n",
       " 'ted cruz becam ted cruz',\n",
       " 'newli approv gm potato potenti silenc human gene',\n",
       " 'accord reach sander sue dnc suspend access critic voter list',\n",
       " 'latest patriot act reform won’t enough rein nsa',\n",
       " 'fbi expand probe clinton emails, launch independ classif review',\n",
       " 'gari johnson?',\n",
       " 'arcturian group marilyn raffael octob 23, 2016 [video]',\n",
       " 'nuclear weapon question',\n",
       " 'kevin macdonald celebr trump’ amaz victori',\n",
       " \"amaz aqutru water filter, version 2.0, stock: i'v snag 500 unit natur news reader deep discount\",\n",
       " 'happen clinton drop out?',\n",
       " \"brother id'd suicid bomber belgium\",\n",
       " 'glorifi violenc',\n",
       " \"russia may run patienc respond usa' rude\",\n",
       " 'david duke show: hillary’ treason trump & duke win',\n",
       " 'blame immigr san francisco shoot',\n",
       " \"netanyahu: allow israel 'submerged' refuge\",\n",
       " 'apocalyps now: trump voter warn ‘revolution’ clinton win',\n",
       " 'geo-engin unlik work, conserv group say',\n",
       " \"3 question ahead tonight' democrat debat\",\n",
       " \"obama' terror strategi failing: us must heed lesson 9/11\",\n",
       " '“berni need ground pulp.” leak email john podesta februari',\n",
       " \"selma 50 year on: john lewis' recal march\",\n",
       " '“we long overdu presidenti assassin anyway”',\n",
       " 'flip-flop: vox warn seriou risk elect day violence, good kind either',\n",
       " 'third-parti presidenti candid fight 15% poll – spot debat',\n",
       " 'bush, rubio kasich eye one anoth shadow trump',\n",
       " 'comey must explain advis obama publicli accus russia hack democrat',\n",
       " 'putin congratul trump, say russia readi restor relat us',\n",
       " 'monsieur malbrough est mort | new eastern outlook',\n",
       " 'conspiraci theori swirl around death antonin scalia',\n",
       " 'one elect thread, ehhh?',\n",
       " 'mccain: trump understand syria',\n",
       " \"trump manag say 'undercov voters' deliv win us elect\",\n",
       " 're: wikileaks: ‘how bill clinton differ bill cosbi did?’ #podestaemails20',\n",
       " 'report: megyn trash trump, newt… murdoch announc replac avail',\n",
       " 'suspect captur ‘ambush-style’ kill two iowa cop',\n",
       " 're: 10 thing everi american know donald trump’ plan save u.s. economi',\n",
       " 'next presid big impact climat polici — even without congress',\n",
       " 'look shock number kid born illeg 2014',\n",
       " 'mother daughter remind msnbc report trump black support',\n",
       " 'justic depart staffer monitor poll elect day',\n",
       " 'elizabeth warren blast fbi director go hillari instead wall street crook',\n",
       " 'poll: 71 percent dem think clinton keep run even indict',\n",
       " 'trumped!',\n",
       " 'iran deal unraveling? think again. | institut',\n",
       " 'saturn’ baffl hexagon — rage storm four time size earth chang color',\n",
       " 'cyru mistri renam rohit sharma-mistry, get job back',\n",
       " 'fbi interven 2016 elect',\n",
       " 're: donald trump wins, 70 years, 7 month 7 day old first full day offic',\n",
       " 'shutdown clash return forc decemb',\n",
       " 'classless obama refus photo-op white hous welcom trump',\n",
       " 'comment maryland trump supporter: switch vote hillari misterdawg',\n",
       " 'stuff news one talk elect',\n",
       " 'blizzard charg countercharg melt away opinion trump clinton frozen',\n",
       " 'social media censor fbi’ re-open clinton email investig',\n",
       " 'obama inch closer veto-proof support iran nuclear deal',\n",
       " \"clinton plan stop sanders' momentum\",\n",
       " 'martin o’malley prais senat democrat hold trade deal',\n",
       " 'shi’it militia join iraq’ mosul attack',\n",
       " '‘super pac’ get earli start push 2016 clinton campaign',\n",
       " 'christian attack: us must promot religi freedom',\n",
       " 'u.s. taxpay pay at&t million dollar year privileg spi',\n",
       " 'video: journalist shot militar polic stand rock conduct interview',\n",
       " 'buffett: ran fed, would rais rate significantli',\n",
       " 'tension russia even real?',\n",
       " 'iran agre nuclear restrict framework deal world power',\n",
       " 'comment constip bodi constip bodi | thehealtholog',\n",
       " 'fifteen quot prove fals flag terror & exist ‘shadow government’',\n",
       " 'berni sanders’ vast univers donors, map',\n",
       " 'former ambassador andrew young call end water fluoridation, “civil right issue”',\n",
       " \"trump' new ad portray 'everi mother' worst nightmare' noth short chill\",\n",
       " 'undercov video expos obama’ plan make american “gun laws” like britain – truthfe',\n",
       " 'happened: obama forget gop run congress?',\n",
       " 'syrian war report – novemb 2, 2016: isi al-nusra attempt cut govt suppli line aleppo',\n",
       " 'christian celebr halloween?',\n",
       " 'sunday charleston: worship emanuel ame',\n",
       " 'make matter wors syria',\n",
       " \"fact check: hillari clinton' speech democrat convention, annot\",\n",
       " 'busted: clinton foundat directli tie plot steal elect',\n",
       " 'connecticut becom first state boycott indiana lgbt discrimin law',\n",
       " 'scott walker confront doubt grasp foreign polici',\n",
       " 'iran carri new ballist missil test',\n",
       " 'assange: donald trump won’t allow win – clinton & isi fund interest',\n",
       " \"joe biden can't get respect\",\n",
       " 'come on, paul ryan must run 2016, right? right?',\n",
       " 'berni sander need start win big state — big',\n",
       " 'leaked: what’ obama’ trade deal',\n",
       " 'michael moor admit women ever melt ice caps, bomb american histori',\n",
       " \"someon tell truth freddi gray' death\",\n",
       " 'prison employe plead guilti aid escap two murder',\n",
       " 'culchi tri explain rule 25 one time',\n",
       " 'elect day: legal pot ohio; democrat lose south',\n",
       " 'presid trump: coloss failur democraci terrifi new realiti',\n",
       " 'go :-)',\n",
       " 'raqqa/mosul: politician fiddl middl east burn',\n",
       " 'chri christi lose home-st donor jeb bush make inroad',\n",
       " 'washington home depot store receiv order five-thousand gallon gold exterior paint',\n",
       " 'western lynch mob russia tie absurd anot : inform',\n",
       " 'sander ralli support around clinton dnc email leak?',\n",
       " \"'historic' climat deal sight nation pars final text\",\n",
       " 'live time individu immens power',\n",
       " \"trump slam 'corrupt' media, women make sexual assault claim\",\n",
       " 'dement imbecil want killari reign terror',\n",
       " 'anti-trump advert side bu realli visual clever see motion',\n",
       " 'american disconnect realiti “insouciant” becom euphem',\n",
       " '5 unspoken rule cover hillari clinton',\n",
       " 'hillari melt weiner public, pic prove campaign implod',\n",
       " \"clinton vs. trump: latest elector predict [greg laden' blog] | scienc technolog\",\n",
       " 'jubile year merci end novemb 20. follow judgment?',\n",
       " 'iraq launch oper isi anbar provinc',\n",
       " 'ukip mep steven woolf & mike hookem report french polic strasbourg scuffl',\n",
       " 'justic kennedi scalia divid gay right',\n",
       " 'justic clarenc thoma describ washington dc “broken”',\n",
       " \"week pictur – week octob 31, 2016 - onion - america' finest news sourc\",\n",
       " \"jeb bush' foreign polici plan: militari spend 'encourag peace'\",\n",
       " 'john kasich: he’ conservative, least he’ sane',\n",
       " '2006 audio emerg hillari clinton propos rig palestin elect',\n",
       " \"author search clue raid thwart potenti 'belgian charli hebdo' attack\",\n",
       " '8 classic footbal banner time',\n",
       " 'tweetwav',\n",
       " 'trump’ gettysburg address new world order',\n",
       " 'debat goal democrat candid',\n",
       " \"'spin speak': email show pentagon readi roll benghazi attack occur\",\n",
       " 'case studi obamacar lawsuit base mythic histori',\n",
       " 'trump proudli declares: peopl i’v insult deserv',\n",
       " \"dem sue gop trump' 'rigged' complaint\",\n",
       " 'us airstrik iraqi armi slow advanc mosul',\n",
       " 'iran letter blowback startl gop',\n",
       " 'clinton camp desperate, russia train wwiii',\n",
       " \"donald trump' gop civil war\",\n",
       " 'comment taint measl vaccin kill 50 children syria tragic death use promot vaccin fear – fenc vaccin',\n",
       " \"laura bush hint she'd rather see hillari presid\",\n",
       " 'scott walker, rick perri show limit super pac',\n",
       " 'catcal polit correct…',\n",
       " 'hillari unleash wwiii : inform',\n",
       " 'time reconsid lifetim appoint suprem court?',\n",
       " 'clinton deleg win dem nomination, ap reports; sander question talli',\n",
       " \"hillari implodes: trump 'took everything...paid noth support us!'\",\n",
       " 'trump say obama born us, ‘period’ – new ‘birther’ dust-up',\n",
       " \"mh370: debri part miss plane, what' next?\",\n",
       " 'googl plan massiv ai integr social network spi tool hillari campaign 2014',\n",
       " 'israel stole classifi us inform use help congression republican',\n",
       " '\"america simpl ideology\": one russia\\' top us expert explain america',\n",
       " 'poll show trump made 13 point 2 week — like poll',\n",
       " 'chao hous floor dems, republican clash lgbt propos',\n",
       " 'new studi link fluorid consumpt hypothyroidism, weight gain, wors',\n",
       " 'clinton, sander accus trump incit violenc',\n",
       " 'memo next administration: defens spend must actual defens',\n",
       " \"new responses, hillari clinton insist email setup matter 'convenience'\",\n",
       " \"trump mull altern option make mexico financ 'the wall'\",\n",
       " \"circu liar - america' three ring evil clown\",\n",
       " 'donald trump said ‘university’ education. actually, goal was: ‘sell, sell, sell!’',\n",
       " 'trump forev chang american polit',\n",
       " 'kerri advis mari harf twitter fight iran nuke',\n",
       " 'role us nato eu relat china, manlio dinucci',\n",
       " 'daili 202: mani african american unenthusiast ‘settle’ hillari clinton',\n",
       " '100,000 peopl come recent berni sander rallies. it?',\n",
       " 'trump president: mean world? - countercurrents.org',\n",
       " \"'you'v fleeced': congress grill kerry, obama offici iran nuke deal\",\n",
       " '20,000 page hack wikileak email teach us hillari clinton',\n",
       " 'comment breaking: cdc block testimoni senior scientist blew whistl sever medic malpractic cdc accus block testimoni senior scientist — new york malpractic & injuri lawyer blog',\n",
       " 'fox news admit made stori hillari “indicted” foundat',\n",
       " 'repudi media',\n",
       " 'buchanan smash cnn shill',\n",
       " 'imposs happening: cub win world seri yes… hillari clinton like indict',\n",
       " 'america elect 2016: gullibl shatter - david keran',\n",
       " 'anderson cooper absolut own kellyann conway fbi clear hillary…again (video)',\n",
       " '‘schlonged!’ nyt: fbi reopen hillari probe thank … anthoni weiner?',\n",
       " 'american realli think elect coverage?',\n",
       " 'exclusive: sieg islamabad',\n",
       " 'fix in: nbc affili accident post elect result week early: hillari win presid 42% trump’ 40%',\n",
       " 'lynch school wingnuts: right tri — fail — wound obama’ ag nomine',\n",
       " 'yes, ted cruz could win',\n",
       " '‘can’t build wall, hand small!’ – nyc anti-trump protest (stream live)',\n",
       " 'trump advisor tri pivot fishtail',\n",
       " \"christian drop, 'nones' soar new religion portrait\",\n",
       " 'comment brother clinton’ campaign chair activ foreign agent saudi arabian payrol marlen',\n",
       " 'insid deliber hillari clinton campaign launch',\n",
       " 'american express disown pink floyd singer roger water pro-palestinian view',\n",
       " 'clinton condemn trump chicago violenc',\n",
       " 'france, grow debat speech protect isn’t',\n",
       " \"president-elect donald trump' first televis interview sinc elect : inform\",\n",
       " 'north carolina hillari support brag facebook vote multipl time',\n",
       " \"russia react un aid chief' aleppo 'kill zone' remark\",\n",
       " 'repres govern thugocracy?',\n",
       " 'gay right religi liberty: american both?',\n",
       " 'rand paul stalls, ted cruz seek pick support among libertarian',\n",
       " '“a dream come true hillari clinton”: wall street journal editori board rip ted cruz',\n",
       " 'obama press putin strike ukrain peac deal',\n",
       " 'trumka: disappoint obama, warn hillari',\n",
       " 'pro-palestinian propaganda lower standard truth america',\n",
       " 'wingnut death-grip congress: paul ryan can’t control hous gop',\n",
       " 'lift weight could ward dementia make smarter',\n",
       " 'peopl excit christma advert told rest human cultur',\n",
       " 'state depart warn possibl terror attack south africa',\n",
       " 'lost iraq?',\n",
       " 'pope franci implor congress accept immigr',\n",
       " 'poll: trump gain iowa, still domin new hampshir',\n",
       " 'rand paul goe senat floor protest nsa spi measur',\n",
       " 'china airport secur robot give electroshock',\n",
       " 'obama detail disappoint netanyahu first post-elect comment',\n",
       " 're: wikileaks: neera tanden anoth ring endors hillary! (no, really)',\n",
       " 'realiti check: first clinton v trump presidenti debat',\n",
       " 'doomsday elect',\n",
       " 'john kasich’ advic women prevent sexual assault: avoid parti “where there’ lot alcohol”',\n",
       " 'system set boehner failur',\n",
       " 'gay marriag victori suprem court trigger backlash',\n",
       " 'rode best? jess jackson mount fight pipeline; leonardo dicaprio rescue?',\n",
       " 'mccarthi drop speaker race hous asks: want job? (+video)',\n",
       " 'democrats, republican tight race iowan prepar caucu',\n",
       " 'iran: best outcom keep negoti without reach deal',\n",
       " 'nazi fli saucer & perman base antarctica',\n",
       " 'breaking: man brag facebook vote 3 times… reveal',\n",
       " 'furiou parent slam ‘damaging’ bbc sex chang show aim six-year-old',\n",
       " 'trump famili say trump brand damag',\n",
       " 'rand paul flatlin',\n",
       " 'nurs chri christi quarantin ebola goe governor vaccin',\n",
       " 'paul ryan donald trump coexist within republican party?',\n",
       " 'cruz copi border wall, trump say',\n",
       " 'john oliver: america’ increasingli segreg school ‘veri rare equal way’ (video)',\n",
       " 'rise mandatori vaccin mean end medic freedom',\n",
       " 'scientist fascin lake sea: enter never come [watch]',\n",
       " 'jeb bush lose tv ad edg marco rubio',\n",
       " 'russia, india discuss fgfa advanc fighter, su-30mki upgrad',\n",
       " 'real police/rac problem: divers forces, white resentment, america’ persist divid',\n",
       " 'suprem court cannot hide obamacar',\n",
       " 'break : ted cruz call special prosecutor investig hillari – truthfe',\n",
       " 'poll: hillari clinton, berni sander top trump',\n",
       " 'donald trump revok washington post press access (+video)',\n",
       " 'real reason obamacar come unglu',\n",
       " 'jeb bush avoid jon huntsman 2016',\n",
       " 'reviv clinton email scandal kill slew new fact record time',\n",
       " 'iraq’ sky darken islam state torch oil',\n",
       " 'new yorker fight overturn ballot selfi ban',\n",
       " 'poll find ben carson knock donald trump top spot nation',\n",
       " '“i’m glad won”: surpris palestinian reaction netanyahu’ win',\n",
       " 'georg w. bush’ ethic lawyer file complaint fbi director jame comey',\n",
       " 'netflix ceo: tv’ futur includ hallucin pill',\n",
       " 'ernst trump: stop name-cal',\n",
       " 'comment elect 2012-16 beammeupscotti',\n",
       " 'debat duke say usa becom banana republ',\n",
       " 'five fbi field offic probe clinton charity, ad fuel fire',\n",
       " 'white house: gop fail put ‘point board’',\n",
       " 'daili 202: presid hillari clinton’ lose. 12 way could lose it.',\n",
       " 'democrat want berni wants, berni has?',\n",
       " 'podesta wiki leaks...w prefer muslim christians....',\n",
       " 'critic pounc madelein albright’ exhort women back clinton',\n",
       " \"clinton doubl disput claim fbi found email remark 'truthful'\",\n",
       " 'clintons’ haiti develop plan succeed — disappoint',\n",
       " 'cours facebook biased. real problem won’t admit it.',\n",
       " 'tax calculator: feder debt',\n",
       " 'trump advis remain split far move toward middl',\n",
       " 'clinton final stretch: win anti-trump conting may best play',\n",
       " 'australian taxpay charg $88 million donat corrupt clinton foundat',\n",
       " 'vatican end scrutini u.s. nun',\n",
       " 'clinton’ email scandal took root',\n",
       " 'jew ‘blame holocaust’ hous lord event',\n",
       " 'disappear middle: elector way less moder past primari',\n",
       " 'hannity: wikileak proven \"everyth conspiraci theorist said\" true',\n",
       " 'russia success test first-ev hyperson weapon',\n",
       " 'hulk actor mark ruffalo join stand rock protest dapl',\n",
       " 'ap fact check: republican debat fact',\n",
       " 'drop incom inequality?',\n",
       " 'walmart goe grain obama’ america new thanksgiv ad',\n",
       " 'senat make histori confirm loretta lynch u.s. attorney gener',\n",
       " 'manhunt escap killer expand vermont',\n",
       " 'path total dictatorship: america’ “shadow government” silent coup',\n",
       " 'youth day election: anoth world possibl',\n",
       " 'physic gold demand fear',\n",
       " 'protest charg shoot offic ferguson',\n",
       " 'comment u.s. war iran alreadi begun جنگ ارزی آمریکا علیه ایران / مورد مطالعاتی سال 1390 - کدآمایی',\n",
       " 'it’ ‘locker-room’ talk. it’ ‘lock up’ talk.',\n",
       " 'gop brace trump loss, roil refus accept elect result',\n",
       " 'one old vh tape may worth $1000',\n",
       " 'obama: trump ‘unfit serv president’',\n",
       " 'pope franci met kim davis: matter fight religi freedom (+video)',\n",
       " 'study: phytochem found broccoli cauliflow attack prostat cancer cell',\n",
       " 'david duke win louisiana senat debat landslid despit blm riot',\n",
       " 'pari tragedi could shake 2016 race',\n",
       " 'hillari clinton radioact – sot #122',\n",
       " \"2016' first gop debate: six thing look charleston\",\n",
       " 'black hawk crash florida; human remain found',\n",
       " 'video: creepi clown get pistol-whipped!',\n",
       " 'vision thing \\x9116 : inform',\n",
       " 'drudge, koch, soros, bezos: 4 non-politician determin next presid',\n",
       " 'way know',\n",
       " 'obama putin outlin compet vision syria',\n",
       " \"comment polic officer’ wife caught fake robberi scheme frame black live matter cat' vagina (nasti woman)\",\n",
       " 'gop lose walmart?',\n",
       " 'suprem court decid weigh transgend right',\n",
       " 'hillari clinton charg obstruct justic could go prison 20 year',\n",
       " \"'top secret' email clinton server discuss drone program, may refer classifi info\",\n",
       " 'miracl man: metaxa vs. close mind close univers',\n",
       " 'obamacar premium spike averag 25%!',\n",
       " 'collect conscious – individu gone',\n",
       " 'obama gun control: emot evolut',\n",
       " 'scientist found insid 800-year-old pot... chang history!',\n",
       " 'clock tick republican still seriou obamacar altern',\n",
       " 'trump tread tradit new hampshir',\n",
       " \"gop presidenti candid hammer 'top secret' clinton email final day iowa caucu\",\n",
       " 'cleveland, justic depart reach polic deal',\n",
       " 'physicist say conscious consid state matter: “non physical” real',\n",
       " 'gop weekend, courtesi koch network citizen unit',\n",
       " 'juan williams: bet trump, clinton vice presidenti pick',\n",
       " 'trump clinton frame close argument',\n",
       " 'scott walker question obama’ faith',\n",
       " 'hillary’ greatest accomplishment?',\n",
       " 'iranian spend $2.1b beauti product annually, 3 time european counterpart',\n",
       " 'sanders, trump easili win west virginia primary; trump pick nebraska',\n",
       " 'clinton, sander face 1st democrat debat',\n",
       " '#innorthdakota ~~ palestinian stand sioux',\n",
       " 'human remain suggest explos brought egyptair plane, forens offici say',\n",
       " 'us offici scan terror databas search pari attack suspect',\n",
       " 'isi declar kill palestinian “one one”’, yet remain quiet israel',\n",
       " 'hillary, polit scientist',\n",
       " 'boom! presid reagan handl protesters: \"negotiate? negotiate?\" [video] » 100percentfedup.com',\n",
       " 'clinton pick first major labor endors 2016',\n",
       " 'link 11/12/16',\n",
       " 'obama: syria war unlik end presid',\n",
       " \"'blue brave': illinoi town ralli around polic search officer' killer goe\",\n",
       " \"senat advanc bill approv keyston pipelin despit obama' veto threat\",\n",
       " 'comment indoor garden made easy: nutritower! indoor garden made easy: nutritower! – collect evolutiongarden busi news uk | garden busi news uk',\n",
       " 'us abstain un vote call end cuban embargo',\n",
       " 'young turk find trump lose utah republican first time decad (video)',\n",
       " 'comment mayor de blasio claim hot dog cart caus global warm dr. eowyn',\n",
       " 'momentum bar syrian refuge slow',\n",
       " 'new evid legal immigr system discrimin latin american',\n",
       " 'america might deserv trump, dem hillari deserv lose',\n",
       " 'media turn blind eye hillari clinton’ glare mistak',\n",
       " 'state depart admit deliber cut brief footag iran deal',\n",
       " 'u.s. economi ad 271,000 job october, beat expect',\n",
       " 'hillari clinton narrowli win kentucky, state berni sander need huge margin',\n",
       " \"no, 'world war 3'\",\n",
       " '49 kill shoot florida nightclub possibl act islam terror',\n",
       " 'anoth day life clinton crime famili',\n",
       " 'muslim regularli use “inshallah” (“god willing” arabic) nobodi call ‘christophobic’ hate speech…so “deu vult” (“god willing” latin) graffiti call ‘islamophobic’ crusad hate speech?',\n",
       " 'extrem rhetor help cruz, trump, duke leader say',\n",
       " 'hillari clinton, fbi real novemb surpris : inform',\n",
       " 'benghazi bust: trey gowdi gop colleagu embarrass',\n",
       " 'obama seek global climat pact paris, amid resist home',\n",
       " \"2 death possibl link 'superbug' ucla hospit 7 infected, 179 expos\",\n",
       " 'breaking: ivanka trump make tragic announc donald trump support shock (video) | propheci',\n",
       " \"gop senat silenc entir room remark war hero opponent' heritag debat\",\n",
       " '2:00pm elect day water cooler 11/8/2016',\n",
       " 'news: somber moment: cub fan world still sad princess diana celebr cubs’ world seri',\n",
       " 'clinton media campaign follow buzzfe model',\n",
       " 'facebook page could land fema camp',\n",
       " 'watch 55 isi terrorist get blown smithereen sure brighten day',\n",
       " 'exclusive: 100 lawsuits, disput tax tie trump compani',\n",
       " 'dog probabl better healthcar',\n",
       " 'get readi civil unrest: survey find american concern elect violenc',\n",
       " 'histor first fill even democrat nation convent',\n",
       " 'retir bishop explain cathol church invent hell [watch]',\n",
       " 'cruz camp respond rubio photoshop flap, brush critic',\n",
       " 'no-fli zone help peopl aleppo?',\n",
       " \"expert recommend break crush defeat smaller, manag failur - onion - america' finest news sourc\",\n",
       " 'comment score one second amendment: pizza hut worker shoots, kill attempt robber lynnmccrann',\n",
       " 'war drug head wrong direction?',\n",
       " 'begins: crowd mass major cities: dc, la, nyc, philly, portland, more… | escalate? | “95% chanc widespread violence”',\n",
       " 'hillari fan sleep rally! snoozi smurf steal show! (abc news) coconut creek fla',\n",
       " 'neighbor smell smoke muslim home, see window horrif',\n",
       " 'ben carson throw support behind donald trump',\n",
       " 'middl east crise trump inherit could still suck',\n",
       " 'clinton trump: view isis, putin, us gener',\n",
       " 'john kirbi us state depart blatantli support terrorist - henri kamen',\n",
       " 'paul ryan’ big speaker hangup reportedli family. male lawmaker, that’ unusual.',\n",
       " 'mccarthi withdraw speaker race, vote postpon',\n",
       " 'joe giambron hollywood’ shameless & underhand assault polit truth',\n",
       " 'immigr swamp',\n",
       " 'blame government, market monopoli',\n",
       " \"'america alreadi strong': obama continu democrats' optim\",\n",
       " \"dnc' mysteri hack oppo file trump big yawn\",\n",
       " 'hillari clinton: ‘no role whatsoev american soldier ground’ iraq',\n",
       " 'donald trump: key success (opinion)',\n",
       " 'first time, trump shrink spotlight; fiorina steal show',\n",
       " 'carrot top give nobel award drive thru window',\n",
       " \"scott walker' stealth 2016 strategi\",\n",
       " 'gaui publius: tpp pick power enemi — black live matter',\n",
       " 'train french soldier supervis daesh',\n",
       " 'let’ make 2016 last endless american elect',\n",
       " 'novemb 8 (finally) here: abridg elect day resourc guid',\n",
       " 'go back futur 2016?',\n",
       " 'bad night front-runn good night governor',\n",
       " 'public fund elect make polit even polar',\n",
       " 'game obamacar',\n",
       " 'anatomi crisi declin us empir',\n",
       " 'uncov audio: hillari ‘adamantli illeg immigrants’',\n",
       " 'obama say world address ‘grievances’ terrorist exploit',\n",
       " '7 way prepar econom crisi',\n",
       " 'press must share blame: shallow, ratings-obsess media respons trump gop',\n",
       " '14 day 14 things, hillary’ indicted-extrem violenc expect',\n",
       " 'daesh abduct 1000 near mosul use human shields: un',\n",
       " 'oregon standoff leader acquit malheur wildlif refug takeov',\n",
       " 'muslim start chant allah plane, flight attend quickli shut',\n",
       " 'netanyahu: iran threat israel, world',\n",
       " 'unpreced surg elect fraud incid around countri',\n",
       " 're: doj ag loretta lynch advis fbi director keep new email congress',\n",
       " \"report said trump' donat vet might shady. respons predictable.\",\n",
       " 'confid deficit impact 2016 elect',\n",
       " 'anonym hacker deric lostutt face 16 year prison, steubenvil rapist walk free',\n",
       " 'mccain pledg help pentagon fix scandal excess militari bonus',\n",
       " \"romney' time trump troll\",\n",
       " 'like “concentr camp” polic mark dapl protest number lock dog kennel',\n",
       " \"can't intersect time elitist exclusionari\",\n",
       " 'sharpen debate: ethic vote year president?',\n",
       " 'world wit breathtak centuri event',\n",
       " 'forbidden history. secret egyptolog exposed!',\n",
       " 'american public longer deal limitless corrupt govern',\n",
       " \"can't trust obama! look sick thing stab trump back... * liberti writer news\",\n",
       " \"ryan far prove 'make sausage,' he'll like serv much differ hous parti 2016\",\n",
       " 'attorney gener nomine offer care back obama polici',\n",
       " 'end white christian america nigh: country’ youth abandon religi conservat',\n",
       " 'nuclear war break korean peninsula?',\n",
       " 'strong job number hold risk clinton',\n",
       " 'sander warn clinton moder vp',\n",
       " \"hack accus russia sign washington' desper\",\n",
       " 'architect pari attack kill raid, french author say',\n",
       " 'dr. macdonald & dr. duke expos viciou war trump jewish establishment!',\n",
       " 'conserv refus believ obama christian',\n",
       " 'donald trump beat fox news -- gop rival',\n",
       " 'elect 2016 weapon american public',\n",
       " 'obama seek calm fear terror ahead holiday season',\n",
       " 'comical: larri cabl guy slam ‘indefensible’ hypocrisi donna brazil',\n",
       " 'hillari clinton lead day elect day',\n",
       " 'democrat debate: fact-check candid',\n",
       " 'teenag boy knock classmat assault femal teacher face- it’ epic!',\n",
       " 'carson take lead trump new nation poll',\n",
       " 'hillari win mani pundits, even left',\n",
       " 'meteor, space junk, rocket? mysteri flash hit siberia',\n",
       " '5 takeaway republican debat',\n",
       " '‘whi first time i’m hear this?’ ask offic wanker',\n",
       " 'breaking: new law stop hillari tracks, offici inelig run',\n",
       " 'lawmak caught battl hous ethic cop',\n",
       " \"new o'keef video: clinton campaign, dnc coordin organ incit violenc trump event\",\n",
       " 'like trampolining, say hedgehog',\n",
       " 'presid putin ask us stop provok russia',\n",
       " 'yes, clinton doubl standard',\n",
       " 'libertarian vp candid give up, focu prevent trump presid',\n",
       " '“i’v alway admir donald trump” – taoiseach',\n",
       " 'wait result | opinion - conserv',\n",
       " 'brotherjohnf silver update: fake elect',\n",
       " 'ask think hillari clinton, never expect say this!',\n",
       " \"'the option': berni sander backer turn green party' jill stein\",\n",
       " 'trump, clinton head sc fierc competit heel',\n",
       " 'non-opec produc expect cut?',\n",
       " 'trump team begin make list execut order ‘eras obama’ presidency’ day one',\n",
       " 'trump shock gop choic',\n",
       " 'trump skeptic got wrong',\n",
       " 'donald trump: ‘we take back heart country’',\n",
       " 'jeb bush fight lone battl defend common core',\n",
       " 'donald trump can’t resist blame bill clinton sexism come',\n",
       " 'hillari clinton jump shark ‘trump’ secret russian server’ conspiraci theori',\n",
       " 'clinton’ experi liability?',\n",
       " 'obama outlin plan keep 5,500 troop afghanistan',\n",
       " 'biden backer naysayers: fast',\n",
       " 'clinton enjoy post-dnc bounc - last?',\n",
       " 'alabama prison offici retali prison strike leader cut water cell',\n",
       " 're: texa polic arrest trump voter wear “deplorable” t-shirt',\n",
       " 'ngo condemn terrorist syria, russia fight – foreign ministri',\n",
       " 'genet modifi crop u.s. fail deliv expect yield',\n",
       " 'fatal expens american imperi',\n",
       " 'comment group reluct men hold kitten first time. hilar ensur para para dinl',\n",
       " 'hous yank first spend bill floor',\n",
       " 'donald trump push republican parti break point',\n",
       " 'trump, clinton clash duel dc speech',\n",
       " 'hillari clinton betray family: “we’r vote trump!”',\n",
       " \"'no camp! camp!': scuffl break hungari train station polic stop migrant train\",\n",
       " 'green party’ margaret flower challeng us senat debat maryland undemocrat [1]',\n",
       " '$15 minimum wage went ‘extreme’ enact',\n",
       " 'asia trade deal hurt us workers? six tough question answered.',\n",
       " '#boycottcomedian…robert deniro want “to punch trump face”…support anti-trump rioters…now want american support new movi [video]',\n",
       " 'doctor find new life clown fulfil | gomerblog',\n",
       " 'city, counti leader ask court lift injunct obama immigr program',\n",
       " 'break : bay pig veteran associ endors donald trump – truthfe',\n",
       " 'rig election: hillari & trump caught parti kissing jesuit gala',\n",
       " 'democrat clinton sander pounc flint water crisi —',\n",
       " 'israel: 1984 everlast',\n",
       " 'no, sander better match trump',\n",
       " \"georgia abandon ukraine' anti-russian obsess - archil sikharulidz\",\n",
       " 'trump vow \"renovate\" bill right',\n",
       " '‘peopl europ full fear’ refuge influx',\n",
       " 'cnn break news: trump tell support vote multipl time',\n",
       " 'gop would unit trump peril',\n",
       " 'hillary’ “big tent” obama’ “grand bargain” steroid',\n",
       " \"kasich bow out. 'the right thing?'\",\n",
       " 'octob 28: daili contrarian read',\n",
       " \"western media teleport child 'victim' hom aleppo (photos, video)\",\n",
       " 'sad truth melania trump’ plagiar snafu',\n",
       " 'comey bombshel realli shake 2016 race?',\n",
       " \"rate obama, 50% say he' success\",\n",
       " 'jame comey taken out, know much clinton',\n",
       " '‘a noun, verb donald trump’: rubio seek seiz murphy’ flaw',\n",
       " 'true scandal 2016 tortur chelsea man :',\n",
       " 'opec see oil price explod $200 barrel',\n",
       " '“clinton, inc”: watch how’ pain msm report clinton corrupt',\n",
       " 'unit state v. texas, biggest immigr case century, explain',\n",
       " 'dare restrain laugh trump hillari stronger hot show',\n",
       " 'ufo investig - max spier - found dead vomit black liquid.',\n",
       " 'jewish press releas audio tape expos hillari clinton plot rig elect',\n",
       " 'clinton campaign stun fbi reportedli reopen probe hillari clinton email',\n",
       " 'middl east’ sick state',\n",
       " 'physicist found hint elus particl that’ antiparticl',\n",
       " 'shock: nsa recov hillary’ delet email',\n",
       " 'white hous monitor iran aid ship yemen',\n",
       " 'trump still like fall 52 deleg short nomin',\n",
       " 'trump, sander trade blame chicago protest',\n",
       " 'electron vote machin caught switch trump vote hillary: “tri steal texas” | surviv',\n",
       " 'ga price could drop toward $1 gallon',\n",
       " 'saber rattl saudis, iran got omin',\n",
       " \"india' stonehenge: 7,000-year-old megalith site oldest observatori south asia\",\n",
       " 'top us gener plead troop revolt 2016',\n",
       " 'director comey jump chanc reopen hillari investig',\n",
       " 'poll: obama popular upsw',\n",
       " 'bloomberg-back pennsylvania attorney gener sentenc 10-23 month prison',\n",
       " 'birthday surpris come hillari criminalton? kim dotcom mysteri tweet.',\n",
       " 'rachel maddow made fight: she’ reason tens hillary/berni firework',\n",
       " 'past case suggest hillari won’t indict',\n",
       " 'u.s. split along racial line backlash police, poll find',\n",
       " 'media unload donald trump',\n",
       " 'reduc stress',\n",
       " 'popular health exchang jeopardi surpris republican win',\n",
       " 'first space photo earth - shot third reich rocket 1946',\n",
       " 'hillary’ slam dunk 2016',\n",
       " 'russia, india expand militari cooper focu navi project | russia & india report',\n",
       " 'make music great again, 10 trump album cover',\n",
       " \"cnn talker famou say 'pu***' air lash newt say megyn' 'obsess sex'\",\n",
       " 'senat gop leav tea parti primari battl behind',\n",
       " 'meet man start illuminati',\n",
       " 'anti-trump deleg respons nomin',\n",
       " 'syria’ un envoy ‘appalled’ rebel attack civilian aleppo',\n",
       " 'collus facebook hillary’ campaign reveal clinton email',\n",
       " 'pro-obama super pac shift focu possibl clinton 2016 bid',\n",
       " '3 dead colorado spring plan parenthood shoot',\n",
       " 'report refuge camp calais, france: “the jungle”',\n",
       " \"trump refus say whether he'll accept elect result\",\n",
       " 'fiorina blame environmentalist california drought',\n",
       " 'ag lynch told fbi director comey go public new clinton email investig',\n",
       " 'fbi reopen clinton investig new email found ‒ comey',\n",
       " 'congress knew least two year pentagon effort take back bonus veteran',\n",
       " \"guilti verdict return 'american sniper' murder trial\",\n",
       " 'marco rubio rises, gop rival reluct take directli',\n",
       " 'trump skip gop debat feud fox news boil',\n",
       " 'dark agenda behind global open border',\n",
       " 're: 22 reason start world war 3 middl east realli bad idea',\n",
       " 'fifteen year nato bombings, montenegro want join nato',\n",
       " 'part patriot act expire, even senat move bill limit surveil',\n",
       " 'us charg 61 india-bas scam involv 15,000 victim',\n",
       " 'us: kurdish troop involv invad isi capit raqqa',\n",
       " 'kasich: voter ‘start pay attention’',\n",
       " 'michael moor owe $4.99',\n",
       " '\"gestur thanks\": turkey arrest terrorist extradit russia',\n",
       " 'jack heart: lucif templ dog',\n",
       " 'presid obama realli realli realli realli hate maureen dowd',\n",
       " 'u.s. congression deleg travel cuba weekend',\n",
       " \"democrat kill obama' colleg save plan\",\n",
       " 'clinton take first step dispel doubt candidaci',\n",
       " 'guardian front page: “a 16-year-old migrant cries…”',\n",
       " 'restaur chain tim horton block independ journalist’ websit wifi',\n",
       " 'rais social secur retir age realli hurt poor',\n",
       " 'afghanistan: 19 die air attack hospital; u.s. investig',\n",
       " \"trump make last-minut push appeal white - onion - america' finest news sourc\",\n",
       " 'new 9/11 memori flight 93: ‘our love one left legaci us’',\n",
       " 'fact check fourth round gop debat',\n",
       " \"onpolit | 's polit blog\",\n",
       " 'clinton campaign cooper politico ‘demystifying’ huma abedin',\n",
       " 'learn speak r.n.c. attende everi state',\n",
       " \"zakharova: kiev' talk arm osc mission disinform\",\n",
       " 'final vote patriot act, trade deal bill set dramat stage congress’ return',\n",
       " 'don’t write donald trump’ polit obituari yet: surg ben carson look like flavor month',\n",
       " \"manni pacquiao' son dead? report say jimuel pacquiao die asthm complic - morn news usa\",\n",
       " \"hillari clinton' postapocalypt hellscap plan??\",\n",
       " 'carmel institut celebr 5th anniversari jazz concert',\n",
       " \"trump’ twitter access revok - onion - america' finest news sourc\",\n",
       " 'rais wage: paul krugman shatter myth can’t afford boost workers’ pay',\n",
       " 'obama’ arctic trip come climat chang build 2016 issu',\n",
       " 'youtub censor video – censorship!',\n",
       " 'hillari clinton proactiv set ethic rule',\n",
       " 'israel hawk pope francis: stay polit',\n",
       " 'budget good war, 75 year',\n",
       " 'anti-clinton revolt among american elit gain momentum?',\n",
       " 'american funhouse: manufactur consent',\n",
       " 'hillari clinton appoint old world nationalist cabinet posit',\n",
       " 'here’ clinton trump must debat stage win night',\n",
       " 'clinton trump would bring war-tim postur white hous',\n",
       " 'gop debat fear cauldron: accord republican candidates, you’r go die',\n",
       " 'clinton hold narrow lead trump eve convent',\n",
       " \"kevin mccarthi announc he' candid hous speaker (+video)\",\n",
       " 'guid paradoxroutin',\n",
       " 'at&t-tim warner merger: anoth media consolid put profit consum',\n",
       " 'fall hous bush: last name donald trump doom jeb',\n",
       " 'mitt romney fan specul anoth white hous run',\n",
       " 'us airstrik kill four iraqi troop near mosul',\n",
       " '‘tolerant’ liber show noth contempt, hatr toward nation’ black suprem court justic',\n",
       " 'us vs them: polit treat like footbal game, one win',\n",
       " 'manhunt shift lone cabin upstat new york: prison hideout?',\n",
       " 'arm dakota access contractor accus tri infiltr water protector',\n",
       " '18 state swat team drill prep backlash stolen elect',\n",
       " 'michael moore: joe blow vote trump “ultim f–– elite… human molotov cocktail”',\n",
       " 'beer, less vodka russian mull ongo crisi - rustem falyakhov',\n",
       " 'stop vendetta plan parenthood',\n",
       " 'understand propaganda - art distract disinform',\n",
       " 'huffington post continu campaign hillari clinton',\n",
       " 'trunew 10/31/16 dr. lanc wallnau | answer prayer: cabal crumbl',\n",
       " \"ted cruz victori show gop' imposs conundrum (+video)\",\n",
       " 'tea parti congressman call arm upris trump lose',\n",
       " 'us pullout yemen eas pressur al qaeda, lawmak warn',\n",
       " 'obama trade bill troubl',\n",
       " 'secret servic test way intercept rogu drone late-night flight washington',\n",
       " 'source: baltimor mayor order polic stand',\n",
       " 'marketwatch leftist: msm’ “blatant” anti trump bia may suicid',\n",
       " 'jane sander fbi: get clinton email probe',\n",
       " 'happi new year, wall street: congress anoth gift',\n",
       " 'left turn bob dylan pro-israel views, refus acknowledg nobel prize',\n",
       " 'facebook nazi thought polic editor threaten quit mark zuckerberg doesn’t ban donald trump hate speech',\n",
       " \"rival slam trump violent rallies: 'he incit violence'\",\n",
       " 'oklahoma fratern close video racist chant',\n",
       " 'jeb bush 2016: good, bad ugli',\n",
       " 'whirlwind day d.c. showcas trump’ unorthodox view shift tone',\n",
       " 'andrew maguir – paper gold market trade jaw-drop 6,800 tonn one day!',\n",
       " 'hillari presid would bring',\n",
       " 'suprem court readi blockbust rule',\n",
       " 'happen mosul isi evict',\n",
       " 'mall america close first time ever thanksgiv',\n",
       " 'former director nation budget warn market tank us elect',\n",
       " 'delet account – episod 23: don’t get sick',\n",
       " 'cnn reach new low, call sheriff clark ‘terrorist’ trump gave import job! | endingf news network',\n",
       " '(((smithsonian))) refus includ judg black museum normal peopl opinion',\n",
       " 'iran nuclear deal: obama want israel commit suicide?',\n",
       " 'syrian war report – novemb 7, 2016: russian attack helicopt swarm hom provinc | vineyard saker',\n",
       " \"bernie' swan song begin\",\n",
       " 'would trump presid threaten rule law?',\n",
       " 'googl god',\n",
       " 'berni sander say media won’t: trump gutless polit coward',\n",
       " \"sander delegates' convent agenda\",\n",
       " 'necessari break law improv standard living?',\n",
       " 'pari climat summit: expect histor talk',\n",
       " 'trump doctor’ letter: take cholesterol drug, overweight ‘excellent’ health',\n",
       " 'game changer? trump support charg voter fraud case',\n",
       " 'suprem court: right \"speedi trial\" end declar guilti',\n",
       " 'told so! zika viru harmless',\n",
       " 'debat futur american power abroad',\n",
       " 'sesam seed knee osteoarthr',\n",
       " 'final get work',\n",
       " 'trick-or-treat get sock rock badass hillari pumpkin outsid',\n",
       " 'amurexit nafta tpp wall street global policeman',\n",
       " 'islam state accept boko haram allegi pledg',\n",
       " 'wife muslim jihadist kill wound 100 orlando nightclub massacr say “knew nothing”',\n",
       " 'farm invent mani time mani differ farmer vast landscape. @carlzimmer. @nytimes. - russia news',\n",
       " \"netanyahu warn iran deal could 'threaten survival' israel\",\n",
       " 'comey reopen hillari investig',\n",
       " 'hillary: leak audio discuss rig elect palestin',\n",
       " \"brussels, trump' 'strength' reson gop voter (+video)\",\n",
       " 'intercept out neocon democrat’ smear trump ‘putin’ puppet’ - eric zuess',\n",
       " 'done deal? clinton, trump shift gener elect big win',\n",
       " 'you’r told: 90% american media control six corpor',\n",
       " 'steve quayl econom collapse, world war 3 u elect',\n",
       " 'brian williams’ chopper whopper say modern news media',\n",
       " 'republican littl reason act immigr — today, also 2016 primari',\n",
       " 'don’t need see trump’ tax — need real medic report',\n",
       " 'polic moral wait: baltimor riot reshap attorney gener loretta lynch’ agenda',\n",
       " 'militar polic stand rock work man',\n",
       " 'bundi ranch occupi acquit count challeng corrupt bureau land manag',\n",
       " 'truth atlanti [video]',\n",
       " 'major corpor sponsor scale back support gop convent',\n",
       " 'admit it: love tax day! (opinion)',\n",
       " 'western qld drover show solidar c.u.b worker drink sauv blanc – betoota advoc',\n",
       " 'cnbc confirm comey abus power help trump',\n",
       " 'jason chaffetz expos hillari clinton’ plan bribe fbi agent let go',\n",
       " \"obama baltimore: 'thi new'\",\n",
       " 'us rule daesh involv afghanistan offens',\n",
       " 'unit state pre-posit “enemi assets” prepar rig elect',\n",
       " 'booz brand polar like politician',\n",
       " 'greec iran seem will take world (+video)',\n",
       " 'comment “thi second one” — virginia cop caught brag kill two unarm peopl jamieson',\n",
       " 'hillari clinton promis steadi leadership, job histor speech',\n",
       " 'news: elect night disaster: john king tap elector colleg map hard fell headfirst digit hellscap',\n",
       " 'clinton email investig shift poll significantli trump’ favor',\n",
       " \"peopl power! nativ declar treati rights, polic admit defeat - cite lack 'manpower' remov dapl protest\",\n",
       " \"obama: u.s. cannot solv world' problem alon\",\n",
       " \"hacker erod americans' trust democrat process\",\n",
       " 'boy autism make first friend ever mom can’t stop cri',\n",
       " 'julian assang octob surpris reveal',\n",
       " 'first contact film trailer',\n",
       " '370 economist sign letter urg america vote donald trump',\n",
       " 'come jobs, final',\n",
       " \"walker' departur mean gop field\",\n",
       " 'julian assang end suspense: “the sourc hack email russia”',\n",
       " 'dem oper oversaw trump ralli agit visit white hous 342 time',\n",
       " 'trump tsunami incoming: trump florida today make president!',\n",
       " \"trump’ star vandal hollywood walk fame - onion - america' finest news sourc\",\n",
       " 'obama’ trip ethiopia alarm human right activist',\n",
       " 'nearli wild anim face mass extinct 2020',\n",
       " 'illeg immigr could elect hillari',\n",
       " '15 food contain vitamin e | altern',\n",
       " 'trey gowdy: “what word loretta lynch talk comey”',\n",
       " 'northern sea route: new prospect pacif rim | new eastern outlook',\n",
       " 'cruz campaign: could stop trump rubio becam run mate',\n",
       " 'free summit health expert teach healthi fat revers diseas lose weight',\n",
       " 'kentucki governor: elect hillari clinton may eventu lead violenc',\n",
       " \"contamin food china enter u.s. 'organic' label\",\n",
       " 'forget wikileaks...thi real octob surpris go stop hillari',\n",
       " 'donald trump: next presid unit state america',\n",
       " '14 day counting-ther civil war matter win elect',\n",
       " 'internet fire specul podesta email contain code child sex',\n",
       " \"insid jeb' 'shock awe' launch\",\n",
       " 'southern poverti law center target anti-jihad crusad (ann corcoran honored!)',\n",
       " 'babylon mysteri religion seri',\n",
       " 'relief effort find survivor intensifi amid power aftershock',\n",
       " 'earli 2016 primari calendar set. change.',\n",
       " \"trump: accept cruz' endors\",\n",
       " 'federalism?',\n",
       " 'confirmed: public overwhelmingli (10-to-1) say media want hillari win',\n",
       " \"mitt romney call donald trump 'a phony, fraud'; trump hit back\",\n",
       " 'jamaica, obama indic remov cuba terror list',\n",
       " 'turkey round erdogan’ polit oppon crackdown widen',\n",
       " 'trump control mossad',\n",
       " 'poll longer rig elect',\n",
       " 'new lunar crater mysteri | space news',\n",
       " \"cruz' immigr gambit\",\n",
       " 'donald trump win presid histor victori',\n",
       " \"trump slam gop nomin process top aid accus cruz 'gestapo tactics' win deleg\",\n",
       " 'battl age',\n",
       " 'discrimin condemnation: australia’ war boat peopl',\n",
       " 'obama hit trail hillari clinton: help hurt?',\n",
       " 'scalia’ death come month court’ biggest abort case year',\n",
       " \"empir files: insid palestine' refuge camp\",\n",
       " 'new saudi king ascend throne terror threat grow',\n",
       " 'anoth deadlin looming, whisper iran nuclear deal emerg',\n",
       " \"donald trump' clintonesqu foreign polici\",\n",
       " 'isra trumpess',\n",
       " 'comment sheriff say cannabi make peopl murder “ration thought” lead violenc isaid dilligaf',\n",
       " 'seven world-histor achiev iraq invas 2003',\n",
       " 'major voter fraud alreadi run rampant republican',\n",
       " 'backers: romney open 2016',\n",
       " 're: yes, paid govern troll social media, blogs, forum websit',\n",
       " 'real reason hillari prosecut email scandal infuri',\n",
       " \"rachel dolezal' assert black could pave way folk choos 'racial identity'\",\n",
       " 'brexit law',\n",
       " 'tsarnaev mom: american ‘terrorists’',\n",
       " 'isn’t ‘islamophobia’ oklahoma gop state rep. say “islam cancer nation need cut out”',\n",
       " 'welcom pari tour buse navig around new muslim tent citi fill street',\n",
       " 'clinton brace nevada nail-bit',\n",
       " 'isra trumpess',\n",
       " 'us insid – russia – leak clinton email',\n",
       " 'smash gold & silver happening? shock game-chang gold & silver unfolding…',\n",
       " 'dad weird mood sinc 2004',\n",
       " 'nato buildup eastern europe: ‘we’v seen tip iceberg’',\n",
       " 'california & oregon want seced u.s. trump elect',\n",
       " \"top five thing watch tonight' debat\",\n",
       " 'nra admit alway lie obama confisc gun',\n",
       " 'head medicare, oversaw obamacar rollout, step',\n",
       " 'republican protest say nearli kill trump say ‘take out’',\n",
       " 'donald trump, presid confederacy: southern strategi creat gop civil war',\n",
       " 'former miss finland accus trump sexual assault, bring number accus 12',\n",
       " 'kerri order state depart review record retent amid clinton email controversi',\n",
       " 'unit state \\x96 reform fracture?',\n",
       " 'sharp exchang election-year poll offer thought rest us',\n",
       " 'romney’ reboot: 2012 loser realli fix problem 2016?',\n",
       " 'possibl fix polar american politics?',\n",
       " 'ceta: canada challeng eu’ chemic regul 21 time',\n",
       " 'tini home ban u.s. increas rate govt crimin sustain live',\n",
       " 'life: third-grad saw classmat didn’t lunch, kept feed lunch clog door got school cancel',\n",
       " 'us face call ‘walk away’ iran talk',\n",
       " 'netanyahu warn support may lose tuesday’ elect',\n",
       " \"harri reid call trade push obama gop 'insanity'\",\n",
       " 'sex presidenti citi',\n",
       " 'san bernardino massacre: horror affect us',\n",
       " \"netanyahu' iran speech: import congress least listen israel' leader\",\n",
       " \"obama: warren 'absolut wrong' trade deal\",\n",
       " 'guardian go friggin nut calai',\n",
       " 'swing-stat stunner: trump edg key state',\n",
       " 'austrian disgrace: jail muslim migrant dump babi middl road got drunk enrag',\n",
       " 'modern histori \\x91rigged\\x92 us elect',\n",
       " 'carli fiorina appear top-tier reagan librari debat',\n",
       " 'strang thing move alaska’ chena river caught video',\n",
       " \"trump expect name run mate soon: look 'attack dog'\",\n",
       " 'presid obama’ interview samantha bee roll floor laugh (video)',\n",
       " 'end road john kasich',\n",
       " 'negoti pari climat talk toss kyoto model',\n",
       " 'happened? 2014, quebec tri pass charter would ban religi attir public, specif prevent muslim women hide face',\n",
       " 'elect 2016 grow global nuclear threat',\n",
       " 'barack juggl bibi, vlad hillari',\n",
       " 'pentagon: plan ‘so far’ us troop enter mosul',\n",
       " 'russian pianist deni matsuev terror us support putin',\n",
       " 'rand paul marco rubio’ feud cuba policy, preview gop’ 2016 foreign polici debat',\n",
       " 'former gop repres call arm insurrect (video)',\n",
       " 'jeb bush blame iraq unrest obama',\n",
       " 'cop versu two inform teen refus submit unlaw detain',\n",
       " 'al qaeda rep say group direct pari magazin attack; us issu travel warn',\n",
       " 'trump make “secret deal prosecut hillary” exchang concession?',\n",
       " \"'draw muhammad' shoot say islam state reach (+video)\",\n",
       " '4 truli import item post-elect list thing protest',\n",
       " 'public vs. media war',\n",
       " \"baltimore' call feder polic probe, new search answer (+video)\",\n",
       " 'freedom rider: organ age hillari',\n",
       " 'iowa caucus closer think',\n",
       " 'enter u.s. refuge would hard terrorist',\n",
       " 'crook hillari investig reopens, democrat citi push allow illeg immigr vote',\n",
       " 'cnn call sheriff clark ‘terrorist’ trump consid give incred new job | endingf news network',\n",
       " 'town wisconsin pass law fine parent bulli',\n",
       " \"here' moder republican run congress anymor\",\n",
       " \"suprem court consid redefin 'one-person, one-vote' principl\",\n",
       " 'iowa nightmar revisited: correct winner call caucu night?',\n",
       " \"fbi investig new clinton email - onion - america' finest news sourc\",\n",
       " 'reveal interview, trump predict ‘massiv recession’ intend elimin nation debt 8 year',\n",
       " 'euro-russian mar lander may explod due softwar glitch',\n",
       " 'limit randomis control trial',\n",
       " 'climat change: (opinion)',\n",
       " 'obama: gov. scott walker need ‘bone up’ foreign polici',\n",
       " \"watch: obama critic kenya' presid gay right stand right\",\n",
       " 'shallow 5.4 magnitud earthquak rattl central italy; shake build rome',\n",
       " 'obama’ plan boost defens budget point brew nation secur debat',\n",
       " 'trump clinton look vp',\n",
       " 'trump hollywood walk fame star destroy sledgehamm pick',\n",
       " 'gop’ nuclear option donald trump: way beat scari',\n",
       " \"check claim 'nobodi anyth wrong' benghazi\",\n",
       " \"who' win indiana? anybody' guess\",\n",
       " 'palin’ endors latest prize trump, cruz battl conserv',\n",
       " 'refuge resettl watch: swept away north carolina',\n",
       " 'unravel chattanooga: know shooter?',\n",
       " 'novemb kale',\n",
       " \"'there appear rule anymore'\",\n",
       " 'univers missouri, pleas immedi fire employe taunt media',\n",
       " 'trump vs. clinton could reshap elector map',\n",
       " 'trump up ant indiana',\n",
       " 'plutocrat love jeb, voter don’t: bush’ “electability” argument get even weaker',\n",
       " '300 us marin deploy norway near russian border first time sinc world war ii',\n",
       " 'julian assange: publish us elect',\n",
       " 'pakistan expel india diplomat tit-for-tat move',\n",
       " 'news shot: detroit airport use new system control travel',\n",
       " 'chri christie: run, beat hillari clinton',\n",
       " 'christi hide $800,000 travel bill',\n",
       " 'russia deploy missil syria turkey shoot bomber',\n",
       " 'lawbreak airbnb again: send spam violat can-spam act',\n",
       " 'marco rubio self-destruct new hampshir',\n",
       " 'comment entitl custom slam restaur yelp, happen next sheer badasseri custom jersey',\n",
       " 'exclusive: foreign isi fighter defend mosul frontlin local flee',\n",
       " 'presid unit state america: donald j. trump',\n",
       " 'gop die off. literally.',\n",
       " 'michael bloomberg name technolog unemploy next administration’ “greatest conundrum”',\n",
       " 'carli fiorina swipe trump: ‘look face.’',\n",
       " 'donald trump hillari clinton stand econom issu',\n",
       " 'anyon beat trump primary? histori say',\n",
       " 'morn plum: get readi anoth ideolog death struggle, time climat',\n",
       " 'two point hillari clinton email fiasco',\n",
       " 'firm win $63mln us armi contract south korea - nci',\n",
       " 'terror attack over, 147 dead kenya univers',\n",
       " 'wall street, hollywood, media sjw fail stop donald trump becom america’ 45th presid',\n",
       " \"robert durst hbo' 'the jinx' charg murder\",\n",
       " 'iraq offens fail',\n",
       " 'hope hype hiroshima can’t conceal obama’ dismal record nuclear disarma',\n",
       " '650,000 email found anthoni weiner’ laptop; doj block foundat probe',\n",
       " 'congress undermin u.s. global econom stand',\n",
       " 'iran nuclear talks: deal fall through?',\n",
       " 'election’ rape sexual assault accus need taken serious',\n",
       " 'democrat convention: passion end day one steadi earli drama',\n",
       " \"gop' big-money plan save senat\",\n",
       " 'turn trump put investig 6 month destroy email',\n",
       " 'russian navi move guid missil ship baltic',\n",
       " 'cruz blast trump phoni conserv front cpac crowd',\n",
       " 'take trump voters’ concern serious mean listen they’r actual say',\n",
       " 'donald trump’ campaign terror: billionair channel authoritarian rage — soar top poll',\n",
       " 'bric countri invest $500 million russian gold deposit - kira egorova',\n",
       " '“there thing late”: obama issu desper call global climat deal',\n",
       " 'hybrid war 8. strategi africa – introduct',\n",
       " 'we’r go lose novemb 8th: get prep post-elect chao checklist (video)',\n",
       " 'hiv ‘cure’ almost complet scientist remov virus’ dna live tissu',\n",
       " 'vortex structur water [video]',\n",
       " 'miss gop debat stage: futur presid (opinion)',\n",
       " 'senat seek ‘live wage’ capitol hill contractor',\n",
       " 'brian william fire shift stori iraq helicopt attack',\n",
       " 'get 10 minut sunlight per day stop depress',\n",
       " 'austria: freedom parti leader call chancellor angela merkel “most danger woman europe”',\n",
       " 'sex scandal could chang elect',\n",
       " 'obama administr announc halt new coal leas',\n",
       " 'obamacar cancer. it’ treat quickli aggressively, die',\n",
       " 'topic: unlik muslims…hors actual sens humor',\n",
       " 'irish tv channel kill weather present halloween',\n",
       " 'scientist claim found 234 alien civil',\n",
       " 'syrian live syria: “it never revolut civil war. terrorist sent government”',\n",
       " \"presid obama' persist puzzl passiv terror\",\n",
       " 'babi bonds: plan black/whit wealth equal conserv could love?',\n",
       " 'two-tim world champion kickbox kill moscow. video',\n",
       " \"jeb' invis man strategi\",\n",
       " 'death million yemeni \"forgotten war\"',\n",
       " \"charli hebdo attack: suspects' names, photo releas\",\n",
       " 'ted cruz-marco rubio debat matter (+video)',\n",
       " 'david sweat shot, captur aliv new york manhunt',\n",
       " \"texa counti switch 'emerg paper ballots'\",\n",
       " 'polic famili fake robbery, vandal home blame black live matter',\n",
       " \"obama open iran: he' learn war, republicans, foreign polici\",\n",
       " \"berni sanders' campaign make worri he’ll manag white hous\",\n",
       " 'dnc donor realli think african american',\n",
       " \"leak email show monsanto execut v.p. invit 'hillraiser' fundrais put clinton white hous monsanto' benefit\",\n",
       " 'clinton multipl fbi investig agent stymi',\n",
       " 'first iraqi troop enter mosul, fight remain larg suburb',\n",
       " 'shock video : hillari need help climb one singl step florida – truthfe',\n",
       " 'vow end two wars, obama may leav three behind',\n",
       " 'climat engin cryospher collaps',\n",
       " ...]"
      ]
     },
     "execution_count": 22,
     "metadata": {},
     "output_type": "execute_result"
    }
   ],
   "source": [
    "cor"
   ]
  },
  {
   "cell_type": "code",
   "execution_count": 24,
   "id": "9db33dcf",
   "metadata": {},
   "outputs": [],
   "source": [
    "from sklearn.feature_extraction.text import CountVectorizer,TfidfTransformer\n",
    "from sklearn.linear_model import PassiveAggressiveClassifier\n",
    "from sklearn.pipeline import Pipeline"
   ]
  },
  {
   "cell_type": "code",
   "execution_count": 25,
   "id": "af16291b",
   "metadata": {},
   "outputs": [],
   "source": [
    "cv=CountVectorizer()\n",
    "msg=cv.fit_transform(cor)"
   ]
  },
  {
   "cell_type": "code",
   "execution_count": 26,
   "id": "eafc6b84",
   "metadata": {},
   "outputs": [
    {
     "data": {
      "text/plain": [
       "<6335x8306 sparse matrix of type '<class 'numpy.int64'>'\n",
       "\twith 47797 stored elements in Compressed Sparse Row format>"
      ]
     },
     "execution_count": 26,
     "metadata": {},
     "output_type": "execute_result"
    }
   ],
   "source": [
    "msg"
   ]
  },
  {
   "cell_type": "code",
   "execution_count": 27,
   "id": "0418a1cb",
   "metadata": {},
   "outputs": [],
   "source": [
    "tar=messages['label']"
   ]
  },
  {
   "cell_type": "code",
   "execution_count": 28,
   "id": "76feabe8",
   "metadata": {},
   "outputs": [
    {
     "data": {
      "text/plain": [
       "(6335, 8306)"
      ]
     },
     "execution_count": 28,
     "metadata": {},
     "output_type": "execute_result"
    }
   ],
   "source": [
    "msg.shape"
   ]
  },
  {
   "cell_type": "code",
   "execution_count": 29,
   "id": "4145e3f6",
   "metadata": {},
   "outputs": [
    {
     "data": {
      "text/plain": [
       "(6335,)"
      ]
     },
     "execution_count": 29,
     "metadata": {},
     "output_type": "execute_result"
    }
   ],
   "source": [
    "tar.shape"
   ]
  },
  {
   "cell_type": "code",
   "execution_count": 30,
   "id": "947cb4ab",
   "metadata": {},
   "outputs": [],
   "source": [
    "tfidf=TfidfTransformer()"
   ]
  },
  {
   "cell_type": "code",
   "execution_count": 31,
   "id": "c2d5b8bd",
   "metadata": {},
   "outputs": [],
   "source": [
    "tf=tfidf.fit_transform(msg)"
   ]
  },
  {
   "cell_type": "code",
   "execution_count": 32,
   "id": "4aabfa24",
   "metadata": {},
   "outputs": [
    {
     "data": {
      "text/plain": [
       "(6335, 8306)"
      ]
     },
     "execution_count": 32,
     "metadata": {},
     "output_type": "execute_result"
    }
   ],
   "source": [
    "tf.shape"
   ]
  },
  {
   "cell_type": "code",
   "execution_count": 33,
   "id": "22c6dc44",
   "metadata": {},
   "outputs": [],
   "source": [
    "from sklearn.model_selection import train_test_split"
   ]
  },
  {
   "cell_type": "code",
   "execution_count": 40,
   "id": "e9a09639",
   "metadata": {},
   "outputs": [],
   "source": [
    "msg_train,msg_test,tar_train,tar_test=train_test_split(tf,tar,test_size=0.3,random_state=\n",
    "0)"
   ]
  },
  {
   "cell_type": "code",
   "execution_count": 41,
   "id": "95dfa291",
   "metadata": {},
   "outputs": [],
   "source": [
    "classifier_mod=PassiveAggressiveClassifier()"
   ]
  },
  {
   "cell_type": "code",
   "execution_count": 42,
   "id": "394b619f",
   "metadata": {
    "scrolled": true
   },
   "outputs": [
    {
     "data": {
      "text/html": [
       "<style>#sk-container-id-1 {color: black;background-color: white;}#sk-container-id-1 pre{padding: 0;}#sk-container-id-1 div.sk-toggleable {background-color: white;}#sk-container-id-1 label.sk-toggleable__label {cursor: pointer;display: block;width: 100%;margin-bottom: 0;padding: 0.3em;box-sizing: border-box;text-align: center;}#sk-container-id-1 label.sk-toggleable__label-arrow:before {content: \"▸\";float: left;margin-right: 0.25em;color: #696969;}#sk-container-id-1 label.sk-toggleable__label-arrow:hover:before {color: black;}#sk-container-id-1 div.sk-estimator:hover label.sk-toggleable__label-arrow:before {color: black;}#sk-container-id-1 div.sk-toggleable__content {max-height: 0;max-width: 0;overflow: hidden;text-align: left;background-color: #f0f8ff;}#sk-container-id-1 div.sk-toggleable__content pre {margin: 0.2em;color: black;border-radius: 0.25em;background-color: #f0f8ff;}#sk-container-id-1 input.sk-toggleable__control:checked~div.sk-toggleable__content {max-height: 200px;max-width: 100%;overflow: auto;}#sk-container-id-1 input.sk-toggleable__control:checked~label.sk-toggleable__label-arrow:before {content: \"▾\";}#sk-container-id-1 div.sk-estimator input.sk-toggleable__control:checked~label.sk-toggleable__label {background-color: #d4ebff;}#sk-container-id-1 div.sk-label input.sk-toggleable__control:checked~label.sk-toggleable__label {background-color: #d4ebff;}#sk-container-id-1 input.sk-hidden--visually {border: 0;clip: rect(1px 1px 1px 1px);clip: rect(1px, 1px, 1px, 1px);height: 1px;margin: -1px;overflow: hidden;padding: 0;position: absolute;width: 1px;}#sk-container-id-1 div.sk-estimator {font-family: monospace;background-color: #f0f8ff;border: 1px dotted black;border-radius: 0.25em;box-sizing: border-box;margin-bottom: 0.5em;}#sk-container-id-1 div.sk-estimator:hover {background-color: #d4ebff;}#sk-container-id-1 div.sk-parallel-item::after {content: \"\";width: 100%;border-bottom: 1px solid gray;flex-grow: 1;}#sk-container-id-1 div.sk-label:hover label.sk-toggleable__label {background-color: #d4ebff;}#sk-container-id-1 div.sk-serial::before {content: \"\";position: absolute;border-left: 1px solid gray;box-sizing: border-box;top: 0;bottom: 0;left: 50%;z-index: 0;}#sk-container-id-1 div.sk-serial {display: flex;flex-direction: column;align-items: center;background-color: white;padding-right: 0.2em;padding-left: 0.2em;position: relative;}#sk-container-id-1 div.sk-item {position: relative;z-index: 1;}#sk-container-id-1 div.sk-parallel {display: flex;align-items: stretch;justify-content: center;background-color: white;position: relative;}#sk-container-id-1 div.sk-item::before, #sk-container-id-1 div.sk-parallel-item::before {content: \"\";position: absolute;border-left: 1px solid gray;box-sizing: border-box;top: 0;bottom: 0;left: 50%;z-index: -1;}#sk-container-id-1 div.sk-parallel-item {display: flex;flex-direction: column;z-index: 1;position: relative;background-color: white;}#sk-container-id-1 div.sk-parallel-item:first-child::after {align-self: flex-end;width: 50%;}#sk-container-id-1 div.sk-parallel-item:last-child::after {align-self: flex-start;width: 50%;}#sk-container-id-1 div.sk-parallel-item:only-child::after {width: 0;}#sk-container-id-1 div.sk-dashed-wrapped {border: 1px dashed gray;margin: 0 0.4em 0.5em 0.4em;box-sizing: border-box;padding-bottom: 0.4em;background-color: white;}#sk-container-id-1 div.sk-label label {font-family: monospace;font-weight: bold;display: inline-block;line-height: 1.2em;}#sk-container-id-1 div.sk-label-container {text-align: center;}#sk-container-id-1 div.sk-container {/* jupyter's `normalize.less` sets `[hidden] { display: none; }` but bootstrap.min.css set `[hidden] { display: none !important; }` so we also need the `!important` here to be able to override the default hidden behavior on the sphinx rendered scikit-learn.org. See: https://github.com/scikit-learn/scikit-learn/issues/21755 */display: inline-block !important;position: relative;}#sk-container-id-1 div.sk-text-repr-fallback {display: none;}</style><div id=\"sk-container-id-1\" class=\"sk-top-container\"><div class=\"sk-text-repr-fallback\"><pre>PassiveAggressiveClassifier()</pre><b>In a Jupyter environment, please rerun this cell to show the HTML representation or trust the notebook. <br />On GitHub, the HTML representation is unable to render, please try loading this page with nbviewer.org.</b></div><div class=\"sk-container\" hidden><div class=\"sk-item\"><div class=\"sk-estimator sk-toggleable\"><input class=\"sk-toggleable__control sk-hidden--visually\" id=\"sk-estimator-id-1\" type=\"checkbox\" checked><label for=\"sk-estimator-id-1\" class=\"sk-toggleable__label sk-toggleable__label-arrow\">PassiveAggressiveClassifier</label><div class=\"sk-toggleable__content\"><pre>PassiveAggressiveClassifier()</pre></div></div></div></div></div>"
      ],
      "text/plain": [
       "PassiveAggressiveClassifier()"
      ]
     },
     "execution_count": 42,
     "metadata": {},
     "output_type": "execute_result"
    }
   ],
   "source": [
    "classifier_mod.fit(msg_train,tar_train)"
   ]
  },
  {
   "cell_type": "code",
   "execution_count": 43,
   "id": "a9de8ddf",
   "metadata": {},
   "outputs": [
    {
     "data": {
      "text/plain": [
       "array(['REAL', 'REAL', 'FAKE', ..., 'FAKE', 'REAL', 'REAL'], dtype='<U4')"
      ]
     },
     "execution_count": 43,
     "metadata": {},
     "output_type": "execute_result"
    }
   ],
   "source": [
    "classifier_mod.predict(msg_test)"
   ]
  },
  {
   "cell_type": "code",
   "execution_count": 44,
   "id": "21a4797c",
   "metadata": {},
   "outputs": [],
   "source": [
    "cm_pred=classifier_mod.predict(msg_test)"
   ]
  },
  {
   "cell_type": "code",
   "execution_count": 45,
   "id": "5a455157",
   "metadata": {},
   "outputs": [],
   "source": [
    "from sklearn.metrics import confusion_matrix,classification_report,accuracy_score"
   ]
  },
  {
   "cell_type": "code",
   "execution_count": 46,
   "id": "53564883",
   "metadata": {},
   "outputs": [
    {
     "name": "stdout",
     "output_type": "stream",
     "text": [
      "              precision    recall  f1-score   support\n",
      "\n",
      "        FAKE       0.77      0.75      0.76       933\n",
      "        REAL       0.76      0.78      0.77       968\n",
      "\n",
      "    accuracy                           0.77      1901\n",
      "   macro avg       0.77      0.77      0.77      1901\n",
      "weighted avg       0.77      0.77      0.77      1901\n",
      "\n"
     ]
    }
   ],
   "source": [
    "print(classification_report(tar_test,cm_pred))"
   ]
  },
  {
   "cell_type": "code",
   "execution_count": 47,
   "id": "799cbeec",
   "metadata": {},
   "outputs": [
    {
     "name": "stdout",
     "output_type": "stream",
     "text": [
      "[[698 235]\n",
      " [209 759]]\n"
     ]
    }
   ],
   "source": [
    "print(confusion_matrix(tar_test,cm_pred))"
   ]
  },
  {
   "cell_type": "code",
   "execution_count": 48,
   "id": "7df073b7",
   "metadata": {},
   "outputs": [
    {
     "name": "stdout",
     "output_type": "stream",
     "text": [
      "The Accuracy Score Is :  0.77\n"
     ]
    }
   ],
   "source": [
    "print('The Accuracy Score Is : ',round(accuracy_score(tar_test,cm_pred),2))"
   ]
  },
  {
   "cell_type": "code",
   "execution_count": 49,
   "id": "1823235d",
   "metadata": {},
   "outputs": [],
   "source": [
    "X=messages['title']\n",
    "y=messages['label']"
   ]
  },
  {
   "cell_type": "code",
   "execution_count": 50,
   "id": "f78203ea",
   "metadata": {},
   "outputs": [
    {
     "data": {
      "text/plain": [
       "(6335,)"
      ]
     },
     "execution_count": 50,
     "metadata": {},
     "output_type": "execute_result"
    }
   ],
   "source": [
    "X.shape"
   ]
  },
  {
   "cell_type": "code",
   "execution_count": 51,
   "id": "d7a0bad4",
   "metadata": {},
   "outputs": [
    {
     "data": {
      "text/plain": [
       "(6335,)"
      ]
     },
     "execution_count": 51,
     "metadata": {},
     "output_type": "execute_result"
    }
   ],
   "source": [
    "X.shape"
   ]
  },
  {
   "cell_type": "code",
   "execution_count": 53,
   "id": "960de155",
   "metadata": {},
   "outputs": [],
   "source": [
    "from sklearn.model_selection import train_test_split"
   ]
  },
  {
   "cell_type": "code",
   "execution_count": 54,
   "id": "9101a92b",
   "metadata": {},
   "outputs": [],
   "source": [
    "X_train, X_test, y_train, y_test = train_test_split(X, y, test_size=0.2)"
   ]
  },
  {
   "cell_type": "code",
   "execution_count": 55,
   "id": "0697d6ba",
   "metadata": {},
   "outputs": [
    {
     "data": {
      "text/plain": [
       "(5068,)"
      ]
     },
     "execution_count": 55,
     "metadata": {},
     "output_type": "execute_result"
    }
   ],
   "source": [
    "X_train.shape"
   ]
  },
  {
   "cell_type": "code",
   "execution_count": 56,
   "id": "5f33632f",
   "metadata": {},
   "outputs": [
    {
     "data": {
      "text/plain": [
       "(5068,)"
      ]
     },
     "execution_count": 56,
     "metadata": {},
     "output_type": "execute_result"
    }
   ],
   "source": [
    "y_train.shape"
   ]
  },
  {
   "cell_type": "code",
   "execution_count": 57,
   "id": "2bde605c",
   "metadata": {},
   "outputs": [],
   "source": [
    "from sklearn.feature_extraction.text import CountVectorizer,TfidfTransformer\n",
    "from sklearn.naive_bayes import MultinomialNB\n",
    "from sklearn.pipeline import Pipeline"
   ]
  },
  {
   "cell_type": "code",
   "execution_count": 58,
   "id": "af607447",
   "metadata": {},
   "outputs": [],
   "source": [
    "pipeline=Pipeline([\n",
    "('bow',CountVectorizer()),\n",
    "('tfidf',TfidfTransformer()),\n",
    "('classifier',PassiveAggressiveClassifier()),\n",
    "])"
   ]
  },
  {
   "cell_type": "code",
   "execution_count": 59,
   "id": "b691f294",
   "metadata": {},
   "outputs": [
    {
     "data": {
      "text/html": [
       "<style>#sk-container-id-2 {color: black;background-color: white;}#sk-container-id-2 pre{padding: 0;}#sk-container-id-2 div.sk-toggleable {background-color: white;}#sk-container-id-2 label.sk-toggleable__label {cursor: pointer;display: block;width: 100%;margin-bottom: 0;padding: 0.3em;box-sizing: border-box;text-align: center;}#sk-container-id-2 label.sk-toggleable__label-arrow:before {content: \"▸\";float: left;margin-right: 0.25em;color: #696969;}#sk-container-id-2 label.sk-toggleable__label-arrow:hover:before {color: black;}#sk-container-id-2 div.sk-estimator:hover label.sk-toggleable__label-arrow:before {color: black;}#sk-container-id-2 div.sk-toggleable__content {max-height: 0;max-width: 0;overflow: hidden;text-align: left;background-color: #f0f8ff;}#sk-container-id-2 div.sk-toggleable__content pre {margin: 0.2em;color: black;border-radius: 0.25em;background-color: #f0f8ff;}#sk-container-id-2 input.sk-toggleable__control:checked~div.sk-toggleable__content {max-height: 200px;max-width: 100%;overflow: auto;}#sk-container-id-2 input.sk-toggleable__control:checked~label.sk-toggleable__label-arrow:before {content: \"▾\";}#sk-container-id-2 div.sk-estimator input.sk-toggleable__control:checked~label.sk-toggleable__label {background-color: #d4ebff;}#sk-container-id-2 div.sk-label input.sk-toggleable__control:checked~label.sk-toggleable__label {background-color: #d4ebff;}#sk-container-id-2 input.sk-hidden--visually {border: 0;clip: rect(1px 1px 1px 1px);clip: rect(1px, 1px, 1px, 1px);height: 1px;margin: -1px;overflow: hidden;padding: 0;position: absolute;width: 1px;}#sk-container-id-2 div.sk-estimator {font-family: monospace;background-color: #f0f8ff;border: 1px dotted black;border-radius: 0.25em;box-sizing: border-box;margin-bottom: 0.5em;}#sk-container-id-2 div.sk-estimator:hover {background-color: #d4ebff;}#sk-container-id-2 div.sk-parallel-item::after {content: \"\";width: 100%;border-bottom: 1px solid gray;flex-grow: 1;}#sk-container-id-2 div.sk-label:hover label.sk-toggleable__label {background-color: #d4ebff;}#sk-container-id-2 div.sk-serial::before {content: \"\";position: absolute;border-left: 1px solid gray;box-sizing: border-box;top: 0;bottom: 0;left: 50%;z-index: 0;}#sk-container-id-2 div.sk-serial {display: flex;flex-direction: column;align-items: center;background-color: white;padding-right: 0.2em;padding-left: 0.2em;position: relative;}#sk-container-id-2 div.sk-item {position: relative;z-index: 1;}#sk-container-id-2 div.sk-parallel {display: flex;align-items: stretch;justify-content: center;background-color: white;position: relative;}#sk-container-id-2 div.sk-item::before, #sk-container-id-2 div.sk-parallel-item::before {content: \"\";position: absolute;border-left: 1px solid gray;box-sizing: border-box;top: 0;bottom: 0;left: 50%;z-index: -1;}#sk-container-id-2 div.sk-parallel-item {display: flex;flex-direction: column;z-index: 1;position: relative;background-color: white;}#sk-container-id-2 div.sk-parallel-item:first-child::after {align-self: flex-end;width: 50%;}#sk-container-id-2 div.sk-parallel-item:last-child::after {align-self: flex-start;width: 50%;}#sk-container-id-2 div.sk-parallel-item:only-child::after {width: 0;}#sk-container-id-2 div.sk-dashed-wrapped {border: 1px dashed gray;margin: 0 0.4em 0.5em 0.4em;box-sizing: border-box;padding-bottom: 0.4em;background-color: white;}#sk-container-id-2 div.sk-label label {font-family: monospace;font-weight: bold;display: inline-block;line-height: 1.2em;}#sk-container-id-2 div.sk-label-container {text-align: center;}#sk-container-id-2 div.sk-container {/* jupyter's `normalize.less` sets `[hidden] { display: none; }` but bootstrap.min.css set `[hidden] { display: none !important; }` so we also need the `!important` here to be able to override the default hidden behavior on the sphinx rendered scikit-learn.org. See: https://github.com/scikit-learn/scikit-learn/issues/21755 */display: inline-block !important;position: relative;}#sk-container-id-2 div.sk-text-repr-fallback {display: none;}</style><div id=\"sk-container-id-2\" class=\"sk-top-container\"><div class=\"sk-text-repr-fallback\"><pre>Pipeline(steps=[(&#x27;bow&#x27;, CountVectorizer()), (&#x27;tfidf&#x27;, TfidfTransformer()),\n",
       "                (&#x27;classifier&#x27;, PassiveAggressiveClassifier())])</pre><b>In a Jupyter environment, please rerun this cell to show the HTML representation or trust the notebook. <br />On GitHub, the HTML representation is unable to render, please try loading this page with nbviewer.org.</b></div><div class=\"sk-container\" hidden><div class=\"sk-item sk-dashed-wrapped\"><div class=\"sk-label-container\"><div class=\"sk-label sk-toggleable\"><input class=\"sk-toggleable__control sk-hidden--visually\" id=\"sk-estimator-id-2\" type=\"checkbox\" ><label for=\"sk-estimator-id-2\" class=\"sk-toggleable__label sk-toggleable__label-arrow\">Pipeline</label><div class=\"sk-toggleable__content\"><pre>Pipeline(steps=[(&#x27;bow&#x27;, CountVectorizer()), (&#x27;tfidf&#x27;, TfidfTransformer()),\n",
       "                (&#x27;classifier&#x27;, PassiveAggressiveClassifier())])</pre></div></div></div><div class=\"sk-serial\"><div class=\"sk-item\"><div class=\"sk-estimator sk-toggleable\"><input class=\"sk-toggleable__control sk-hidden--visually\" id=\"sk-estimator-id-3\" type=\"checkbox\" ><label for=\"sk-estimator-id-3\" class=\"sk-toggleable__label sk-toggleable__label-arrow\">CountVectorizer</label><div class=\"sk-toggleable__content\"><pre>CountVectorizer()</pre></div></div></div><div class=\"sk-item\"><div class=\"sk-estimator sk-toggleable\"><input class=\"sk-toggleable__control sk-hidden--visually\" id=\"sk-estimator-id-4\" type=\"checkbox\" ><label for=\"sk-estimator-id-4\" class=\"sk-toggleable__label sk-toggleable__label-arrow\">TfidfTransformer</label><div class=\"sk-toggleable__content\"><pre>TfidfTransformer()</pre></div></div></div><div class=\"sk-item\"><div class=\"sk-estimator sk-toggleable\"><input class=\"sk-toggleable__control sk-hidden--visually\" id=\"sk-estimator-id-5\" type=\"checkbox\" ><label for=\"sk-estimator-id-5\" class=\"sk-toggleable__label sk-toggleable__label-arrow\">PassiveAggressiveClassifier</label><div class=\"sk-toggleable__content\"><pre>PassiveAggressiveClassifier()</pre></div></div></div></div></div></div></div>"
      ],
      "text/plain": [
       "Pipeline(steps=[('bow', CountVectorizer()), ('tfidf', TfidfTransformer()),\n",
       "                ('classifier', PassiveAggressiveClassifier())])"
      ]
     },
     "execution_count": 59,
     "metadata": {},
     "output_type": "execute_result"
    }
   ],
   "source": [
    "pipeline.fit(X_train,y_train)"
   ]
  },
  {
   "cell_type": "code",
   "execution_count": 60,
   "id": "f3692aa4",
   "metadata": {},
   "outputs": [
    {
     "data": {
      "text/plain": [
       "array(['REAL', 'FAKE', 'FAKE', ..., 'REAL', 'REAL', 'FAKE'], dtype='<U4')"
      ]
     },
     "execution_count": 60,
     "metadata": {},
     "output_type": "execute_result"
    }
   ],
   "source": [
    "pipeline.predict(X_test)"
   ]
  },
  {
   "cell_type": "code",
   "execution_count": 61,
   "id": "73406103",
   "metadata": {},
   "outputs": [],
   "source": [
    "pred=pipeline.predict(X_test)"
   ]
  },
  {
   "cell_type": "code",
   "execution_count": 62,
   "id": "1fd5c776",
   "metadata": {},
   "outputs": [
    {
     "data": {
      "text/html": [
       "<div>\n",
       "<style scoped>\n",
       "    .dataframe tbody tr th:only-of-type {\n",
       "        vertical-align: middle;\n",
       "    }\n",
       "\n",
       "    .dataframe tbody tr th {\n",
       "        vertical-align: top;\n",
       "    }\n",
       "\n",
       "    .dataframe thead th {\n",
       "        text-align: right;\n",
       "    }\n",
       "</style>\n",
       "<table border=\"1\" class=\"dataframe\">\n",
       "  <thead>\n",
       "    <tr style=\"text-align: right;\">\n",
       "      <th></th>\n",
       "      <th>Actual</th>\n",
       "      <th>Predicted</th>\n",
       "    </tr>\n",
       "  </thead>\n",
       "  <tbody>\n",
       "    <tr>\n",
       "      <th>5446</th>\n",
       "      <td>FAKE</td>\n",
       "      <td>REAL</td>\n",
       "    </tr>\n",
       "    <tr>\n",
       "      <th>6047</th>\n",
       "      <td>FAKE</td>\n",
       "      <td>FAKE</td>\n",
       "    </tr>\n",
       "    <tr>\n",
       "      <th>2594</th>\n",
       "      <td>FAKE</td>\n",
       "      <td>FAKE</td>\n",
       "    </tr>\n",
       "    <tr>\n",
       "      <th>1784</th>\n",
       "      <td>REAL</td>\n",
       "      <td>FAKE</td>\n",
       "    </tr>\n",
       "    <tr>\n",
       "      <th>4886</th>\n",
       "      <td>FAKE</td>\n",
       "      <td>FAKE</td>\n",
       "    </tr>\n",
       "    <tr>\n",
       "      <th>1713</th>\n",
       "      <td>REAL</td>\n",
       "      <td>FAKE</td>\n",
       "    </tr>\n",
       "    <tr>\n",
       "      <th>2924</th>\n",
       "      <td>FAKE</td>\n",
       "      <td>FAKE</td>\n",
       "    </tr>\n",
       "    <tr>\n",
       "      <th>2766</th>\n",
       "      <td>REAL</td>\n",
       "      <td>REAL</td>\n",
       "    </tr>\n",
       "    <tr>\n",
       "      <th>2636</th>\n",
       "      <td>REAL</td>\n",
       "      <td>REAL</td>\n",
       "    </tr>\n",
       "    <tr>\n",
       "      <th>2894</th>\n",
       "      <td>REAL</td>\n",
       "      <td>REAL</td>\n",
       "    </tr>\n",
       "  </tbody>\n",
       "</table>\n",
       "</div>"
      ],
      "text/plain": [
       "     Actual Predicted\n",
       "5446   FAKE      REAL\n",
       "6047   FAKE      FAKE\n",
       "2594   FAKE      FAKE\n",
       "1784   REAL      FAKE\n",
       "4886   FAKE      FAKE\n",
       "1713   REAL      FAKE\n",
       "2924   FAKE      FAKE\n",
       "2766   REAL      REAL\n",
       "2636   REAL      REAL\n",
       "2894   REAL      REAL"
      ]
     },
     "execution_count": 62,
     "metadata": {},
     "output_type": "execute_result"
    }
   ],
   "source": [
    "df33=pd.DataFrame({'Actual':y_test,'Predicted':pred})\n",
    "df33.head(10)"
   ]
  },
  {
   "cell_type": "code",
   "execution_count": 63,
   "id": "0e89516a",
   "metadata": {},
   "outputs": [],
   "source": [
    "from sklearn.metrics import confusion_matrix,classification_report,accuracy_score"
   ]
  },
  {
   "cell_type": "code",
   "execution_count": 64,
   "id": "c7050c8b",
   "metadata": {},
   "outputs": [
    {
     "name": "stdout",
     "output_type": "stream",
     "text": [
      "              precision    recall  f1-score   support\n",
      "\n",
      "        FAKE       0.79      0.79      0.79       632\n",
      "        REAL       0.79      0.80      0.79       635\n",
      "\n",
      "    accuracy                           0.79      1267\n",
      "   macro avg       0.79      0.79      0.79      1267\n",
      "weighted avg       0.79      0.79      0.79      1267\n",
      "\n"
     ]
    }
   ],
   "source": [
    "print(classification_report(y_test,pred))"
   ]
  },
  {
   "cell_type": "code",
   "execution_count": 65,
   "id": "9faebf73",
   "metadata": {},
   "outputs": [
    {
     "name": "stdout",
     "output_type": "stream",
     "text": [
      "The Accuracy Score Is : 0.79\n"
     ]
    }
   ],
   "source": [
    "print('The Accuracy Score Is :',round(accuracy_score(y_test,pred),2))"
   ]
  },
  {
   "cell_type": "code",
   "execution_count": null,
   "id": "02160350",
   "metadata": {},
   "outputs": [],
   "source": []
  }
 ],
 "metadata": {
  "kernelspec": {
   "display_name": "Python 3 (ipykernel)",
   "language": "python",
   "name": "python3"
  },
  "language_info": {
   "codemirror_mode": {
    "name": "ipython",
    "version": 3
   },
   "file_extension": ".py",
   "mimetype": "text/x-python",
   "name": "python",
   "nbconvert_exporter": "python",
   "pygments_lexer": "ipython3",
   "version": "3.10.6"
  }
 },
 "nbformat": 4,
 "nbformat_minor": 5
}
